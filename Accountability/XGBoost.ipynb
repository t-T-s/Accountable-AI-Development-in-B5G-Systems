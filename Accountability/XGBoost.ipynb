{
 "cells": [
  {
   "attachments": {},
   "cell_type": "markdown",
   "metadata": {},
   "source": [
    "# Import binary data - Taken from binarized dataset\n"
   ]
  },
  {
   "cell_type": "code",
   "execution_count": 20,
   "metadata": {},
   "outputs": [],
   "source": [
    "import xgboost as xgb\n",
    "import pandas as pd\n",
    "import numpy as np\n",
    "import matplotlib.pyplot as plt\n",
    "from sklearn.metrics import mean_squared_error\n",
    "from sklearn.preprocessing import StandardScaler\n",
    "from sklearn.model_selection import train_test_split"
   ]
  },
  {
   "cell_type": "code",
   "execution_count": 21,
   "metadata": {},
   "outputs": [
    {
     "name": "stdout",
     "output_type": "stream",
     "text": [
      "The shape of the full dataset: (382, 22)\n",
      "Features: ['session_time', '%tcp_protocol', '%udp_protocol', 'ul_data_volume', 'max_ul_volume', 'min_ul_volume', 'avg_ul_volume', 'std_ul_volume', '%ul_volume', 'dl_data_volume', 'max_dl_volume', 'min_dl_volume', 'avg_dl_volume', 'std_dl_volume', '%dl_volume', 'nb_uplink_packet', 'nb_downlink_packet', 'ul_packet', 'dl_packet', 'kB/s', 'nb_packet/s']\n"
     ]
    }
   ],
   "source": [
    "# Load the dataset from csv files\n",
    "full_dataset = pd.read_csv(\"../../output_full_web_or_not.csv\", header=0, usecols=[*range(1,23)], sep=\";\") \n",
    "full_dataset.dropna(axis = 0, inplace = True)\n",
    "print(\"The shape of the full dataset: \" + str(full_dataset.shape))\n",
    "\n",
    "full_dataset.head()\n",
    "\n",
    "# Set of features in the dataset\n",
    "features = list(full_dataset.columns)\n",
    "print(\"Features: \" + str(features[:-1]))\n",
    "\n",
    "activity_df = full_dataset"
   ]
  },
  {
   "cell_type": "code",
   "execution_count": 22,
   "metadata": {},
   "outputs": [],
   "source": [
    "activity_df = activity_df.sample(frac=1)"
   ]
  },
  {
   "cell_type": "code",
   "execution_count": 23,
   "metadata": {},
   "outputs": [
    {
     "name": "stdout",
     "output_type": "stream",
     "text": [
      "Shape of the training dataset: (267, 21), (267, 1)\n",
      "Shape of the testing dataset: (115, 21), (115, 1)\n"
     ]
    }
   ],
   "source": [
    "y_df = activity_df['output'].to_frame()\n",
    "X_df = activity_df[activity_df.columns.difference(['output'])]\n",
    "\n",
    "X_train, X_test, y_train_orig, y_test_orig = train_test_split(X_df, y_df, stratify=y_df, train_size=0.7, random_state=9)\n",
    "\n",
    "print(\"Shape of the training dataset: \" + str(X_train.shape) + \", \" + str(y_train_orig.shape))\n",
    "print(\"Shape of the testing dataset: \" + str(X_test.shape) + \", \" + str(y_test_orig.shape))\n",
    "\n",
    "# print(X_train.index.tolist())"
   ]
  },
  {
   "cell_type": "code",
   "execution_count": 24,
   "metadata": {},
   "outputs": [],
   "source": [
    "y_train_orig['output'].mask(activity_df['output'] == 1, 0, inplace=True)\n",
    "y_train_orig['output'].mask(activity_df['output'] == 2, 1, inplace=True)"
   ]
  },
  {
   "cell_type": "code",
   "execution_count": 25,
   "metadata": {},
   "outputs": [
    {
     "data": {
      "text/plain": [
       "output\n",
       "0         212\n",
       "1          55\n",
       "dtype: int64"
      ]
     },
     "execution_count": 25,
     "metadata": {},
     "output_type": "execute_result"
    }
   ],
   "source": [
    "y_train_orig.value_counts()"
   ]
  },
  {
   "attachments": {},
   "cell_type": "markdown",
   "metadata": {},
   "source": [
    "# Create model"
   ]
  },
  {
   "cell_type": "code",
   "execution_count": 26,
   "metadata": {},
   "outputs": [
    {
     "name": "stdout",
     "output_type": "stream",
     "text": [
      "XGBClassifier(base_score=None, booster=None, callbacks=None,\n",
      "              colsample_bylevel=None, colsample_bynode=None,\n",
      "              colsample_bytree=None, early_stopping_rounds=None,\n",
      "              enable_categorical=False, eval_metric=None, feature_types=None,\n",
      "              gamma=None, gpu_id=None, grow_policy=None, importance_type=None,\n",
      "              interaction_constraints=None, learning_rate=None, max_bin=None,\n",
      "              max_cat_threshold=None, max_cat_to_onehot=None,\n",
      "              max_delta_step=None, max_depth=None, max_leaves=None,\n",
      "              min_child_weight=None, missing=nan, monotone_constraints=None,\n",
      "              n_estimators=100, n_jobs=None, num_parallel_tree=None,\n",
      "              predictor=None, random_state=None, ...)\n"
     ]
    },
    {
     "data": {
      "text/plain": [
       "XGBClassifier(base_score=None, booster=None, callbacks=None,\n",
       "              colsample_bylevel=None, colsample_bynode=None,\n",
       "              colsample_bytree=None, early_stopping_rounds=None,\n",
       "              enable_categorical=False, eval_metric=None, feature_types=None,\n",
       "              gamma=None, gpu_id=None, grow_policy=None, importance_type=None,\n",
       "              interaction_constraints=None, learning_rate=None, max_bin=None,\n",
       "              max_cat_threshold=None, max_cat_to_onehot=None,\n",
       "              max_delta_step=None, max_depth=None, max_leaves=None,\n",
       "              min_child_weight=None, missing=nan, monotone_constraints=None,\n",
       "              n_estimators=100, n_jobs=None, num_parallel_tree=None,\n",
       "              predictor=None, random_state=None, ...)"
      ]
     },
     "execution_count": 26,
     "metadata": {},
     "output_type": "execute_result"
    }
   ],
   "source": [
    "from xgboost import XGBClassifier\n",
    "\n",
    "clf = XGBClassifier()\n",
    "print(clf)\n",
    "XGBClassifier(base_score=0.5, booster='gbtree', colsample_bylevel=1,\n",
    "       colsample_bynode=1, colsample_bytree=1, gamma=0, learning_rate=0.1,\n",
    "       max_delta_step=0, max_depth=3, min_child_weight=1, missing=None,\n",
    "       n_estimators=100, n_jobs=1, nthread=None,\n",
    "       objective='multi:softprob', random_state=0, reg_alpha=0,\n",
    "       reg_lambda=1, scale_pos_weight=1, seed=None, silent=None,\n",
    "       subsample=1, verbosity=1) \n",
    "clf.fit(X_train, y_train_orig)"
   ]
  },
  {
   "attachments": {},
   "cell_type": "markdown",
   "metadata": {},
   "source": [
    "# Shapash"
   ]
  },
  {
   "cell_type": "code",
   "execution_count": 27,
   "metadata": {},
   "outputs": [],
   "source": [
    "from shapash import SmartExplainer\n",
    "# features = list(features)\n",
    "features_dict = dict(zip(features, features))\n",
    "xpl = SmartExplainer(\n",
    "    model=clf,\n",
    "    #preprocessing=encoder, # Optional: compile step can use inverse_transform method\n",
    "    features_dict=features_dict # optional parameter, specifies label for features name \n",
    ")\n",
    "xpl.compile(x=X_test,\n",
    "            y_target=y_test_orig # Optional: allows to display True Values vs Predicted Values\n",
    "           )"
   ]
  },
  {
   "cell_type": "code",
   "execution_count": 28,
   "metadata": {},
   "outputs": [
    {
     "data": {
      "application/vnd.plotly.v1+json": {
       "config": {
        "plotlyServerURL": "https://plot.ly"
       },
       "data": [
        {
         "customdata": [
          "%udp_protocol",
          "%ul_volume",
          "nb_packet/s",
          "min_ul_volume",
          "dl_data_volume",
          "max_dl_volume",
          "ul_data_volume",
          "dl_packet",
          "std_ul_volume",
          "%dl_volume",
          "nb_downlink_packet",
          "max_ul_volume",
          "session_time",
          "nb_uplink_packet",
          "kB/s",
          "min_dl_volume",
          "avg_dl_volume",
          "avg_ul_volume",
          "%tcp_protocol",
          "std_dl_volume"
         ],
         "hovertemplate": "Feature: %{customdata}<br />Contribution: %{x:.4f}<extra></extra>",
         "marker": {
          "color": [
           "rgba(244, 192, 0, 1.0)",
           "rgba(244, 192, 0, 1.0)",
           "rgba(244, 192, 0, 1.0)",
           "rgba(244, 192, 0, 1.0)",
           "rgba(244, 192, 0, 1.0)",
           "rgba(244, 192, 0, 1.0)",
           "rgba(244, 192, 0, 1.0)",
           "rgba(244, 192, 0, 1.0)",
           "rgba(244, 192, 0, 1.0)",
           "rgba(244, 192, 0, 1.0)",
           "rgba(244, 192, 0, 1.0)",
           "rgba(244, 192, 0, 1.0)",
           "rgba(244, 192, 0, 1.0)",
           "rgba(244, 192, 0, 1.0)",
           "rgba(244, 192, 0, 1.0)",
           "rgba(244, 192, 0, 1.0)",
           "rgba(244, 192, 0, 1.0)",
           "rgba(244, 192, 0, 1.0)",
           "rgba(244, 192, 0, 1.0)",
           "rgba(244, 192, 0, 1.0)"
          ],
          "line": {
           "color": "rgba(52, 55, 54, 0.8)",
           "width": 0.5
          }
         },
         "name": "Global",
         "orientation": "h",
         "type": "bar",
         "x": [
          0,
          0,
          0,
          0,
          0.002099999925121665,
          0.002300000051036477,
          0.004100000020116568,
          0.00419999985024333,
          0.005900000222027302,
          0.008700000122189522,
          0.009399999864399433,
          0.009999999776482582,
          0.01209999993443489,
          0.01640000008046627,
          0.035999998450279236,
          0.05829999968409538,
          0.10239999741315842,
          0.11050000041723251,
          0.1500999927520752,
          0.4677000045776367
         ],
         "y": [
          "%udp_protocol",
          "%ul_volume",
          "nb_packet/s",
          "min_ul_volume",
          "dl_data_volume",
          "max_dl_volume",
          "ul_data_volume",
          "dl_packet",
          "std_ul_volume",
          "%dl_volume",
          "nb_downlink_packet",
          "max_ul_volume",
          "session_time",
          "nb_uplink_packet",
          "kB/s",
          "min_dl_volume",
          "avg_dl_volume",
          "avg_ul_volume",
          "%tcp_protocol",
          "std_dl_volume"
         ]
        }
       ],
       "layout": {
        "autosize": false,
        "barmode": "group",
        "height": 500,
        "hovermode": "closest",
        "margin": {
         "b": 50,
         "l": 160,
         "r": 0,
         "t": 95
        },
        "template": {
         "data": {
          "scatter": [
           {
            "type": "scatter"
           }
          ]
         }
        },
        "title": {
         "font": {
          "color": "rgb(50, 50, 50)",
          "family": "Arial",
          "size": 24
         },
         "text": "Features Importance<br><sup>Response: <b>1</b> - Total number of features: 21</sup>",
         "x": 0.5,
         "xanchor": "center",
         "y": 0.9,
         "yanchor": "middle"
        },
        "width": 900,
        "xaxis": {
         "title": {
          "font": {
           "color": "rgb(50, 50, 50)",
           "family": "Arial Black",
           "size": 16
          },
          "text": "Contribution"
         }
        },
        "yaxis": {
         "automargin": true,
         "dtick": 1,
         "tickmode": "array",
         "ticktext": [
          "%udp_protocol",
          "%ul_volume",
          "nb_packet/s",
          "min_ul_volume",
          "dl_data_volume",
          "max_dl_volume",
          "ul_data_volume",
          "dl_packet",
          "std_ul_volume",
          "%dl_volume",
          "nb_downlink_packet",
          "max_ul_volume",
          "session_time",
          "nb_uplink_packet",
          "kB/s",
          "min_dl_volume",
          "avg_dl_volume",
          "avg_ul_volume",
          "%tcp_protocol",
          "std_dl_volume"
         ],
         "tickvals": [
          "%udp_protocol",
          "%ul_volume",
          "nb_packet/s",
          "min_ul_volume",
          "dl_data_volume",
          "max_dl_volume",
          "ul_data_volume",
          "dl_packet",
          "std_ul_volume",
          "%dl_volume",
          "nb_downlink_packet",
          "max_ul_volume",
          "session_time",
          "nb_uplink_packet",
          "kB/s",
          "min_dl_volume",
          "avg_dl_volume",
          "avg_ul_volume",
          "%tcp_protocol",
          "std_dl_volume"
         ],
         "title": {
          "font": {
           "color": "rgb(50, 50, 50)",
           "family": "Arial Black",
           "size": 16
          }
         }
        }
       }
      }
     },
     "metadata": {},
     "output_type": "display_data"
    }
   ],
   "source": [
    "xpl.plot.features_importance()"
   ]
  },
  {
   "cell_type": "code",
   "execution_count": 29,
   "metadata": {},
   "outputs": [
    {
     "data": {
      "application/vnd.plotly.v1+json": {
       "config": {
        "plotlyServerURL": "https://plot.ly"
       },
       "data": [
        {
         "customdata": [
          [
           99.51632406287789,
           242
          ],
          [
           99.02912621359224,
           313
          ],
          [
           89.33333333333333,
           131
          ],
          [
           8.447937131630649,
           355
          ],
          [
           99.61315280464216,
           231
          ],
          [
           8.703535811423391,
           350
          ],
          [
           2.3529411764705883,
           144
          ],
          [
           100,
           33
          ],
          [
           99.78145488604432,
           74
          ],
          [
           98.76543209876544,
           274
          ],
          [
           99.80704293294744,
           42
          ],
          [
           83.6734693877551,
           16
          ],
          [
           3.716216216216216,
           161
          ],
          [
           0.081799591002045,
           202
          ],
          [
           100,
           358
          ],
          [
           2.6548672566371683,
           140
          ],
          [
           4.183266932270916,
           152
          ],
          [
           100,
           195
          ],
          [
           94.11764705882354,
           383
          ],
          [
           99.9213217938631,
           68
          ],
          [
           0,
           212
          ],
          [
           0,
           343
          ],
          [
           100,
           130
          ],
          [
           99.8570918185066,
           43
          ],
          [
           100,
           107
          ],
          [
           99.91773609740046,
           290
          ],
          [
           4.158004158004158,
           142
          ],
          [
           7.522123893805309,
           179
          ],
          [
           96.81274900398408,
           26
          ],
          [
           100,
           21
          ],
          [
           1.702127659574468,
           147
          ],
          [
           0,
           364
          ],
          [
           99.53051643192488,
           379
          ],
          [
           0.1661129568106312,
           204
          ],
          [
           100,
           194
          ],
          [
           91.48936170212764,
           100
          ],
          [
           0,
           207
          ],
          [
           2.380952380952381,
           351
          ],
          [
           100,
           62
          ],
          [
           94.91525423728814,
           236
          ],
          [
           0,
           363
          ],
          [
           100,
           98
          ],
          [
           91.83673469387756,
           120
          ],
          [
           0,
           362
          ],
          [
           99.65095986038396,
           230
          ],
          [
           99.74059662775616,
           85
          ],
          [
           100,
           9
          ],
          [
           100,
           114
          ],
          [
           89.28571428571429,
           254
          ],
          [
           99.85414235705952,
           31
          ],
          [
           99.85742291926572,
           63
          ],
          [
           2.25140712945591,
           149
          ],
          [
           50,
           176
          ],
          [
           100,
           318
          ],
          [
           99.92877492877491,
           44
          ],
          [
           99.6474217717056,
           59
          ],
          [
           98.64864864864865,
           263
          ],
          [
           91.83673469387756,
           109
          ],
          [
           96.03960396039604,
           261
          ],
          [
           97.4025974025974,
           377
          ],
          [
           99.8931623931624,
           64
          ],
          [
           88.73239436619718,
           134
          ],
          [
           100,
           296
          ],
          [
           3.7383177570093458,
           342
          ],
          [
           100,
           105
          ],
          [
           95.34883720930232,
           235
          ],
          [
           100,
           90
          ],
          [
           98.24561403508773,
           371
          ],
          [
           99.92816091954025,
           297
          ],
          [
           36.11111111111112,
           180
          ],
          [
           97.91666666666669,
           382
          ],
          [
           100,
           101
          ],
          [
           98,
           265
          ],
          [
           99.92344204562856,
           10
          ],
          [
           100,
           117
          ],
          [
           4.143126177024482,
           143
          ],
          [
           99.86033519553072,
           22
          ],
          [
           100,
           34
          ],
          [
           96.07843137254902,
           264
          ],
          [
           1.8867924528301887,
           141
          ],
          [
           99.88665344290168,
           80
          ],
          [
           94.87179487179488,
           122
          ],
          [
           100,
           214
          ],
          [
           88.73239436619718,
           136
          ],
          [
           99.50149551345962,
           96
          ],
          [
           100,
           196
          ],
          [
           6.25,
           199
          ],
          [
           100,
           320
          ],
          [
           100,
           56
          ],
          [
           1.6597510373443984,
           157
          ],
          [
           100,
           28
          ],
          [
           100,
           278
          ],
          [
           100,
           76
          ],
          [
           3.839732888146912,
           166
          ],
          [
           100,
           67
          ],
          [
           99.67637540453076,
           284
          ],
          [
           99.08256880733946,
           241
          ],
          [
           100,
           93
          ],
          [
           99.05660377358492,
           238
          ],
          [
           99.54389965792474,
           243
          ],
          [
           99.5475113122172,
           244
          ],
          [
           23.07692307692308,
           175
          ],
          [
           100,
           323
          ],
          [
           100,
           388
          ],
          [
           100,
           172
          ],
          [
           98.91304347826087,
           252
          ],
          [
           95.1219512195122,
           338
          ],
          [
           99.95455922447744,
           58
          ],
          [
           99.67105263157896,
           227
          ],
          [
           92.45283018867924,
           118
          ],
          [
           0,
           215
          ],
          [
           99.8928418345478,
           77
          ],
          [
           88.57142857142857,
           133
          ],
          [
           99.87351378699722,
           70
          ],
          [
           99.89163415691374,
           300
          ]
         ],
         "hovertemplate": "<b>%{hovertext}</b><br />%tcp_protocol: %{customdata[0]}<br />Contribution: %{y:.4f}<extra></extra>",
         "hovertext": [
          "Id: 242",
          "Id: 313",
          "Id: 131",
          "Id: 355",
          "Id: 231",
          "Id: 350",
          "Id: 144",
          "Id: 33",
          "Id: 74",
          "Id: 274",
          "Id: 42",
          "Id: 16",
          "Id: 161",
          "Id: 202",
          "Id: 358",
          "Id: 140",
          "Id: 152",
          "Id: 195",
          "Id: 383",
          "Id: 68",
          "Id: 212",
          "Id: 343",
          "Id: 130",
          "Id: 43",
          "Id: 107",
          "Id: 290",
          "Id: 142",
          "Id: 179",
          "Id: 26",
          "Id: 21",
          "Id: 147",
          "Id: 364",
          "Id: 379",
          "Id: 204",
          "Id: 194",
          "Id: 100",
          "Id: 207",
          "Id: 351",
          "Id: 62",
          "Id: 236",
          "Id: 363",
          "Id: 98",
          "Id: 120",
          "Id: 362",
          "Id: 230",
          "Id: 85",
          "Id: 9",
          "Id: 114",
          "Id: 254",
          "Id: 31",
          "Id: 63",
          "Id: 149",
          "Id: 176",
          "Id: 318",
          "Id: 44",
          "Id: 59",
          "Id: 263",
          "Id: 109",
          "Id: 261",
          "Id: 377",
          "Id: 64",
          "Id: 134",
          "Id: 296",
          "Id: 342",
          "Id: 105",
          "Id: 235",
          "Id: 90",
          "Id: 371",
          "Id: 297",
          "Id: 180",
          "Id: 382",
          "Id: 101",
          "Id: 265",
          "Id: 10",
          "Id: 117",
          "Id: 143",
          "Id: 22",
          "Id: 34",
          "Id: 264",
          "Id: 141",
          "Id: 80",
          "Id: 122",
          "Id: 214",
          "Id: 136",
          "Id: 96",
          "Id: 196",
          "Id: 199",
          "Id: 320",
          "Id: 56",
          "Id: 157",
          "Id: 28",
          "Id: 278",
          "Id: 76",
          "Id: 166",
          "Id: 67",
          "Id: 284",
          "Id: 241",
          "Id: 93",
          "Id: 238",
          "Id: 243",
          "Id: 244",
          "Id: 175",
          "Id: 323",
          "Id: 388",
          "Id: 172",
          "Id: 252",
          "Id: 338",
          "Id: 58",
          "Id: 227",
          "Id: 118",
          "Id: 215",
          "Id: 77",
          "Id: 133",
          "Id: 70",
          "Id: 300"
         ],
         "marker": {
          "color": [
           0.0021895263344049454,
           0.0034651667810976505,
           0.0016730647766962647,
           0.9797163009643555,
           0.002265399554744363,
           0.026883680373430252,
           0.9984196424484253,
           0.0011842286912724376,
           0.0010028749238699675,
           0.0010564548429101706,
           0.0019510578131303191,
           0.05553162842988968,
           0.9984196424484253,
           0.9863905906677246,
           0.010802431963384151,
           0.9984196424484253,
           0.9957106113433838,
           0.0016415086574852467,
           0.0016730647766962647,
           0.0010028749238699675,
           0.11587906628847122,
           0.9962781071662903,
           0.010802431963384151,
           0.002126419683918357,
           0.001390567165799439,
           0.0010028749238699675,
           0.9984196424484253,
           0.05453267693519592,
           0.0016730647766962647,
           0.0009200843051075935,
           0.9957106113433838,
           0.07756003737449646,
           0.0010564548429101706,
           0.9904086589813232,
           0.010802431963384151,
           0.0014780127676203847,
           0.7817392945289612,
           0.09823524951934814,
           0.0009692452731542289,
           0.0016730647766962647,
           0.9945626854896545,
           0.0010564548429101706,
           0.0016730647766962647,
           0.995658278465271,
           0.0032898257486522198,
           0.0016726816538721323,
           0.0010028749238699675,
           0.0014780127676203847,
           0.0010564548429101706,
           0.0010028749238699675,
           0.001303223893046379,
           0.9984196424484253,
           0.621636152267456,
           0.0016730647766962647,
           0.0010028749238699675,
           0.0013599387602880597,
           0.0016730647766962647,
           0.0016730647766962647,
           0.0016730647766962647,
           0.0010564548429101706,
           0.0010028749238699675,
           0.0016730647766962647,
           0.0010028749238699675,
           0.997509241104126,
           0.0014780127676203847,
           0.0016730647766962647,
           0.0010028749238699675,
           0.0016730647766962647,
           0.0010028749238699675,
           0.045907098799943924,
           0.0010564548429101706,
           0.0016730647766962647,
           0.0010564548429101706,
           0.0010028749238699675,
           0.0016730647766962647,
           0.9984196424484253,
           0.002126419683918357,
           0.0010028749238699675,
           0.0016730647766962647,
           0.9984196424484253,
           0.0010028749238699675,
           0.010802431963384151,
           0.9880971908569336,
           0.0016730647766962647,
           0.0010564548429101706,
           0.0009692452731542289,
           0.79497891664505,
           0.0012758109951391816,
           0.0010028749238699675,
           0.9984196424484253,
           0.0009200843051075935,
           0.039338402450084686,
           0.0010564548429101706,
           0.056393928825855255,
           0.0009200843051075935,
           0.0010028749238699675,
           0.0010564548429101706,
           0.0010564548429101706,
           0.0010564548429101706,
           0.002880945336073637,
           0.0030804937705397606,
           0.9960013031959534,
           0.0010564548429101706,
           0.0010564548429101706,
           0.9248340129852295,
           0.0016730647766962647,
           0.001390567165799439,
           0.0010028749238699675,
           0.002735086716711521,
           0.0016730647766962647,
           0.9960013031959534,
           0.0010028749238699675,
           0.0016730647766962647,
           0.0010028749238699675,
           0.0010028749238699675
          ],
          "coloraxis": "coloraxis",
          "line": {
           "color": "white",
           "width": 0.8
          },
          "opacity": 0.8,
          "size": 10
         },
         "mode": "markers",
         "type": "scatter",
         "x": [
          99.51632406287789,
          99.02912621359224,
          89.33333333333333,
          8.447937131630649,
          99.61315280464216,
          8.703535811423391,
          2.3529411764705883,
          100,
          99.78145488604432,
          98.76543209876544,
          99.80704293294744,
          83.6734693877551,
          3.716216216216216,
          0.081799591002045,
          100,
          2.6548672566371683,
          4.183266932270916,
          100,
          94.11764705882354,
          99.9213217938631,
          0,
          0,
          100,
          99.8570918185066,
          100,
          99.91773609740046,
          4.158004158004158,
          7.522123893805309,
          96.81274900398408,
          100,
          1.702127659574468,
          0,
          99.53051643192488,
          0.1661129568106312,
          100,
          91.48936170212764,
          0,
          2.380952380952381,
          100,
          94.91525423728814,
          0,
          100,
          91.83673469387756,
          0,
          99.65095986038396,
          99.74059662775616,
          100,
          100,
          89.28571428571429,
          99.85414235705952,
          99.85742291926572,
          2.25140712945591,
          50,
          100,
          99.92877492877491,
          99.6474217717056,
          98.64864864864865,
          91.83673469387756,
          96.03960396039604,
          97.4025974025974,
          99.8931623931624,
          88.73239436619718,
          100,
          3.7383177570093458,
          100,
          95.34883720930232,
          100,
          98.24561403508773,
          99.92816091954025,
          36.11111111111112,
          97.91666666666669,
          100,
          98,
          99.92344204562856,
          100,
          4.143126177024482,
          99.86033519553072,
          100,
          96.07843137254902,
          1.8867924528301887,
          99.88665344290168,
          94.87179487179488,
          100,
          88.73239436619718,
          99.50149551345962,
          100,
          6.25,
          100,
          100,
          1.6597510373443984,
          100,
          100,
          100,
          3.839732888146912,
          100,
          99.67637540453076,
          99.08256880733946,
          100,
          99.05660377358492,
          99.54389965792474,
          99.5475113122172,
          23.07692307692308,
          100,
          100,
          100,
          98.91304347826087,
          95.1219512195122,
          99.95455922447744,
          99.67105263157896,
          92.45283018867924,
          0,
          99.8928418345478,
          88.57142857142857,
          99.87351378699722,
          99.89163415691374
         ],
         "y": [
          -0.8257743120193481,
          -0.8257743120193481,
          -0.8257743120193481,
          1.0546702146530151,
          -0.7718438506126404,
          0.8486988544464111,
          1.1701298952102661,
          -0.6253857612609863,
          -0.7718438506126404,
          -0.8257743120193481,
          -0.7591173648834229,
          0.5863081216812134,
          1.222296953201294,
          1.2033441066741943,
          -0.8130477666854858,
          1.1701298952102661,
          0.8940833210945129,
          -0.8257743120193481,
          -0.8257743120193481,
          -0.7591173648834229,
          1.6415586471557617,
          1.0771112442016602,
          -0.8257743120193481,
          -0.7591173648834229,
          -0.8257743120193481,
          -0.7591173648834229,
          0.9068684577941895,
          0.8755057454109192,
          -0.8130477666854858,
          -0.7718438506126404,
          1.1701298952102661,
          1.7194303274154663,
          -0.8257743120193481,
          1.0542405843734741,
          -0.8130477666854858,
          -0.8257743120193481,
          1.0542405843734741,
          1.5850471258163452,
          -0.8257743120193481,
          -0.8257743120193481,
          0.9609784483909607,
          -0.8257743120193481,
          -0.8257743120193481,
          1.0388500690460205,
          -0.7718438506126404,
          -0.7591173648834229,
          -0.7718438506126404,
          -0.8257743120193481,
          -0.8257743120193481,
          -0.7591173648834229,
          -0.7591173648834229,
          1.1701298952102661,
          1.0082461833953857,
          -0.8257743120193481,
          -0.7591173648834229,
          -0.7591173648834229,
          -0.8257743120193481,
          -0.8257743120193481,
          -0.8257743120193481,
          -0.8257743120193481,
          -0.7718438506126404,
          -0.8257743120193481,
          -0.7718438506126404,
          1.222296953201294,
          -0.8257743120193481,
          -0.8257743120193481,
          -0.7845404148101807,
          -0.8257743120193481,
          -0.7591173648834229,
          0.9303745627403259,
          -0.8257743120193481,
          -0.8257743120193481,
          -0.8257743120193481,
          -0.7591173648834229,
          -0.8257743120193481,
          0.9068684577941895,
          -0.7591173648834229,
          -0.7845404148101807,
          -0.8257743120193481,
          1.2401206493377686,
          -0.7591173648834229,
          -0.8257743120193481,
          -0.6030230522155762,
          -0.8257743120193481,
          -0.8130477666854858,
          -0.8257743120193481,
          1.153432011604309,
          -0.8257743120193481,
          -0.7718438506126404,
          1.2083910703659058,
          -0.7718438506126404,
          -0.7214797735214233,
          -0.8257743120193481,
          0.9302908182144165,
          -0.7845404148101807,
          -0.7845404148101807,
          -0.8257743120193481,
          -0.8257743120193481,
          -0.8257743120193481,
          -0.8257743120193481,
          -0.8257743120193481,
          0.7628033757209778,
          -0.8257743120193481,
          -0.8257743120193481,
          -0.6030230522155762,
          -0.8257743120193481,
          -0.8257743120193481,
          -0.7591173648834229,
          -0.7718438506126404,
          -0.8257743120193481,
          1.0388500690460205,
          -0.7718438506126404,
          -0.8257743120193481,
          -0.7591173648834229,
          -0.7591173648834229
         ]
        }
       ],
       "layout": {
        "coloraxis": {
         "colorbar": {
          "title": {
           "text": "Predicted Proba"
          }
         },
         "colorscale": [
          [
           0,
           "rgb(52, 55, 54)"
          ],
          [
           0.0000829981508126932,
           "rgb(74, 99, 138)"
          ],
          [
           0.0000829981508126932,
           "rgb(116, 153, 214)"
          ],
          [
           0.00013671237915774967,
           "rgb(162, 188, 213)"
          ],
          [
           0.0005593270272232338,
           "rgb(212, 234, 242)"
          ],
          [
           0.0007548679750698047,
           "rgb(235, 216, 134)"
          ],
          [
           0.0011038784401944904,
           "rgb(255, 204, 83)"
          ],
          [
           0.00990711983539214,
           "rgb(244, 192, 0)"
          ],
          [
           0.6543729178483172,
           "rgb(255, 166, 17)"
          ],
          [
           0.9974590304599056,
           "rgb(255, 123, 38)"
          ],
          [
           1,
           "rgb(255, 77, 7)"
          ]
         ]
        },
        "height": 600,
        "hovermode": "closest",
        "template": {
         "data": {
          "scatter": [
           {
            "type": "scatter"
           }
          ]
         }
        },
        "title": {
         "font": {
          "color": "rgb(50, 50, 50)",
          "family": "Arial",
          "size": 24
         },
         "text": "<b>%tcp_protocol</b> - Feature Contribution<br><sup>Response: <b>1</b></sup>",
         "x": 0.5,
         "xanchor": "center",
         "y": 0.9,
         "yanchor": "middle"
        },
        "width": 900,
        "xaxis": {
         "automargin": true,
         "title": {
          "font": {
           "color": "rgb(50, 50, 50)",
           "family": "Arial Black",
           "size": 16
          },
          "text": "%tcp_protocol"
         }
        },
        "yaxis": {
         "automargin": true,
         "title": {
          "font": {
           "color": "rgb(50, 50, 50)",
           "family": "Arial Black",
           "size": 16
          },
          "text": "Contribution"
         }
        }
       }
      }
     },
     "metadata": {},
     "output_type": "display_data"
    }
   ],
   "source": [
    "xpl.plot.contribution_plot(\"%tcp_protocol\")"
   ]
  },
  {
   "cell_type": "code",
   "execution_count": 30,
   "metadata": {},
   "outputs": [
    {
     "data": {
      "application/vnd.plotly.v1+json": {
       "config": {
        "plotlyServerURL": "https://plot.ly"
       },
       "data": [],
       "layout": {
        "barmode": "group",
        "height": 550,
        "hovermode": "closest",
        "margin": {
         "b": 70,
         "l": 150,
         "r": 20,
         "t": 80
        },
        "template": {
         "data": {
          "scatter": [
           {
            "type": "scatter"
           }
          ]
         }
        },
        "title": {
         "font": {
          "color": "rgb(50, 50, 50)",
          "family": "Arial",
          "size": 24
         },
         "text": "Local Explanation - <b>No Matching Entry</b>",
         "x": 0.5,
         "xanchor": "center",
         "y": 0.9,
         "yanchor": "middle"
        },
        "width": 900,
        "xaxis": {
         "title": {
          "font": {
           "color": "rgb(50, 50, 50)",
           "family": "Arial Black",
           "size": 16
          },
          "text": "Contribution"
         }
        },
        "yaxis": {
         "automargin": true,
         "dtick": 1,
         "title": {
          "font": {
           "color": "rgb(50, 50, 50)",
           "family": "Arial Black",
           "size": 16
          }
         },
         "type": "category"
        }
       }
      }
     },
     "metadata": {},
     "output_type": "display_data"
    }
   ],
   "source": [
    "xpl.plot.local_plot(index=5)"
   ]
  },
  {
   "cell_type": "code",
   "execution_count": 31,
   "metadata": {},
   "outputs": [
    {
     "data": {
      "text/plain": [
       "(100, 21)"
      ]
     },
     "execution_count": 31,
     "metadata": {},
     "output_type": "execute_result"
    }
   ],
   "source": [
    "X_train[:100].shape"
   ]
  },
  {
   "cell_type": "code",
   "execution_count": 32,
   "metadata": {},
   "outputs": [
    {
     "name": "stderr",
     "output_type": "stream",
     "text": [
      "100%|██████████| 100/100 [00:00<00:00, 5556.11it/s]\n",
      " 40%|████      | 4/10 [00:02<00:04,  1.40it/s]\n"
     ]
    }
   ],
   "source": [
    "from shapash.explainer.consistency import Consistency\n",
    "cns = Consistency()\n",
    "\n",
    "cns.compile(x=X_train[:100], # Dataset for which we need explanations\n",
    "            model=clf, # Model to explain\n",
    "            #preprocessing=encoder, # Optional\n",
    "            )"
   ]
  },
  {
   "cell_type": "code",
   "execution_count": 35,
   "metadata": {},
   "outputs": [
    {
     "data": {
      "image/png": "[encoded data removed]",
      "text/plain": [
       "<Figure size 1000x600 with 1 Axes>"
      ]
     },
     "metadata": {},
     "output_type": "display_data"
    },
    {
     "data": {
      "image/png": "[encoded data removed]",
      "text/plain": [
       "<Figure size 1500x400 with 5 Axes>"
      ]
     },
     "metadata": {},
     "output_type": "display_data"
    }
   ],
   "source": [
    "cns.consistency_plot(max_features=21)"
   ]
  },
  {
   "cell_type": "code",
   "execution_count": 60,
   "metadata": {},
   "outputs": [
    {
     "data": {
      "text/plain": [
       "Int64Index([167, 307, 333, 378,   1, 305,  87, 280, 287,  83, 121, 337,  92,\n",
       "            220, 104, 246, 321, 326, 317, 273, 327, 145, 353, 258, 334, 103,\n",
       "            306, 127,  24, 291, 233, 372,  32, 373, 352, 232,  94, 183, 113,\n",
       "            312, 304,  12, 349, 332, 106, 135,   0, 208, 154, 169, 272, 132,\n",
       "             52, 268, 209, 322,  20, 324, 370, 155, 228, 340, 299, 308,  36,\n",
       "            139, 184, 345, 193, 245,  91, 165, 170, 163,  18,  46,  25, 359,\n",
       "             51,  72,  14, 253, 186, 277, 316, 240, 270, 239,  47,  50,  73,\n",
       "            124, 380, 187, 250, 138,   4, 112,  23, 384],\n",
       "           dtype='int64')"
      ]
     },
     "execution_count": 60,
     "metadata": {},
     "output_type": "execute_result"
    }
   ],
   "source": [
    "cns.index"
   ]
  },
  {
   "cell_type": "code",
   "execution_count": 37,
   "metadata": {},
   "outputs": [
    {
     "data": {
      "image/png": "[encoded data removed]",
      "text/plain": [
       "<Figure size 1000x600 with 1 Axes>"
      ]
     },
     "metadata": {},
     "output_type": "display_data"
    },
    {
     "data": {
      "image/png": "[encoded data removed]",
      "text/plain": [
       "<Figure size 1500x400 with 5 Axes>"
      ]
     },
     "metadata": {},
     "output_type": "display_data"
    }
   ],
   "source": [
    "index = [1, 2, 3, 4, 5]\n",
    "cns.consistency_plot(selection=index, max_features=21)"
   ]
  },
  {
   "cell_type": "code",
   "execution_count": 38,
   "metadata": {},
   "outputs": [
    {
     "data": {
      "application/vnd.plotly.v1+json": {
       "config": {
        "plotlyServerURL": "https://plot.ly"
       },
       "data": [
        {
         "cumulative": {
          "enabled": true
         },
         "histnorm": "percent",
         "hovertemplate": "Top %{x:.0f} features explain at least 90%<br>of the model for %{y:.1f}% of the instances",
         "hovertext": "none",
         "marker": {
          "color": "rgba(255, 166, 17, 0.9)"
         },
         "name": "",
         "type": "histogram",
         "x": [
          4,
          6,
          6,
          7,
          8,
          11,
          10,
          5,
          9,
          4,
          9,
          6,
          8,
          3,
          6,
          8,
          5,
          6,
          6,
          9,
          5,
          10,
          6,
          9,
          5,
          9,
          10,
          7,
          6,
          9,
          5,
          4,
          4,
          7,
          6,
          5,
          7,
          8,
          4,
          6,
          8,
          4,
          6,
          9,
          2,
          5,
          9,
          5,
          4,
          9,
          4,
          8,
          9,
          6,
          9,
          9,
          6,
          6,
          6,
          4,
          9,
          6,
          9,
          7,
          5,
          6,
          8,
          6,
          9,
          7,
          4,
          6,
          4,
          9,
          6,
          8,
          9,
          8,
          6,
          9,
          9,
          6,
          9,
          6,
          7,
          4,
          8,
          5,
          9,
          8,
          8,
          5,
          4,
          5,
          8,
          8,
          4,
          4,
          4,
          2,
          2,
          10,
          4,
          4,
          9,
          6,
          5,
          9,
          4,
          6,
          11,
          9,
          6,
          9,
          9
         ],
         "xaxis": "x",
         "yaxis": "y"
        },
        {
         "cumulative": {
          "direction": "decreasing",
          "enabled": true
         },
         "histnorm": "percent",
         "hovertemplate": "Top 5 features explain at least %{x:.0f}%<br>of the model for %{y:.1f}% of the instances",
         "marker": {
          "color": "rgba(117, 152, 189, 0.9)"
         },
         "name": "",
         "type": "histogram",
         "x": [
          62.27984619140625,
          77.69200897216797,
          77.69203186035156,
          60.868072509765625,
          50.406982421875,
          79.7265396118164,
          11.565017700195312,
          94.0938949584961,
          47.36039733886719,
          76.27253723144531,
          82.78956604003906,
          72.96168518066406,
          38.0950927734375,
          90.80529022216797,
          76.15373992919922,
          38.97829055786133,
          99.32422637939453,
          77.69207763671875,
          77.69203186035156,
          44.81510925292969,
          90.53871154785156,
          19.920730590820312,
          73.60841369628906,
          82.78956604003906,
          96.21476745605469,
          44.81510925292969,
          17.046737670898438,
          19.77273178100586,
          80.23736572265625,
          47.36039733886719,
          96.9686508178711,
          65.49175262451172,
          76.27253723144531,
          60.961387634277344,
          76.15373992919922,
          90.10739135742188,
          86.29658508300781,
          30.46487045288086,
          76.27253723144531,
          77.69203186035156,
          37.46528625488281,
          76.27253723144531,
          77.69203186035156,
          27.695608139038086,
          96.4424819946289,
          96.38581085205078,
          47.36039733886719,
          90.10739135742188,
          76.27253723144531,
          44.81510925292969,
          66.94755554199219,
          38.97829055786133,
          82.67252349853516,
          77.69203186035156,
          44.81510925292969,
          86.97869873046875,
          77.69203186035156,
          77.69203186035156,
          77.69203186035156,
          76.27253723144531,
          47.36039733886719,
          77.69203186035156,
          47.36039733886719,
          66.01457214355469,
          90.10739135742188,
          77.69203186035156,
          49.89971923828125,
          77.69203186035156,
          44.81510925292969,
          78.3909683227539,
          76.27253723144531,
          77.69203186035156,
          76.27253723144531,
          44.81510925292969,
          77.69203186035156,
          38.32597732543945,
          82.78956604003906,
          52.946327209472656,
          77.69203186035156,
          32.49473571777344,
          44.81510925292969,
          73.60841369628906,
          26.552820205688477,
          77.69203186035156,
          56.688045501708984,
          76.27253723144531,
          32.017372131347656,
          96.2148208618164,
          47.36039733886719,
          43.294620513916016,
          50.407005310058594,
          93.81294250488281,
          76.27253723144531,
          96.95012664794922,
          52.946327209472656,
          52.946327209472656,
          76.27253723144531,
          73.2259292602539,
          76.27253723144531,
          89.79256439208984,
          89.79256439208984,
          15.721702575683594,
          76.27253723144531,
          76.27253723144531,
          30.63640594482422,
          77.69203186035156,
          96.21476745605469,
          44.81510925292969,
          77.9197006225586,
          77.69203186035156,
          19.42887306213379,
          47.36039733886719,
          77.69203186035156,
          44.81510925292969,
          44.81510925292969
         ],
         "xaxis": "x2",
         "yaxis": "y2"
        }
       ],
       "layout": {
        "annotations": [
         {
          "font": {
           "color": "rgb(50, 50, 50)",
           "family": "Arial",
           "size": 14
          },
          "showarrow": false,
          "text": "Number of features required<br>to explain 90% of the model's output",
          "x": 0.2,
          "xanchor": "center",
          "xref": "paper",
          "y": 1,
          "yanchor": "bottom",
          "yref": "paper"
         },
         {
          "font": {
           "color": "rgb(50, 50, 50)",
           "family": "Arial",
           "size": 14
          },
          "showarrow": false,
          "text": "Percentage of the model output<br>explained by the 5 most important<br>features per instance",
          "x": 0.8,
          "xanchor": "center",
          "xref": "paper",
          "y": 1,
          "yanchor": "bottom",
          "yref": "paper"
         }
        ],
        "hovermode": "closest",
        "margin": {
         "t": 150
        },
        "showlegend": false,
        "template": {
         "data": {
          "scatter": [
           {
            "type": "scatter"
           }
          ]
         }
        },
        "title": {
         "font": {
          "color": "rgb(50, 50, 50)",
          "family": "Arial",
          "size": 24
         },
         "pad": {
          "b": 50
         },
         "text": "Compacity of explanations:<span style='font-size: 16px;'><br />How many variables are enough to produce accurate explanations?</span>",
         "x": 0.5,
         "xanchor": "center",
         "y": 0.8,
         "yanchor": "bottom"
        },
        "xaxis": {
         "anchor": "y",
         "domain": [
          0,
          0.4
         ],
         "title": {
          "font": {
           "color": "rgb(50, 50, 50)",
           "family": "Arial Black",
           "size": 16
          },
          "text": "Number of selected features"
         }
        },
        "xaxis2": {
         "anchor": "y2",
         "domain": [
          0.6000000000000001,
          1
         ],
         "title": {
          "font": {
           "color": "rgb(50, 50, 50)",
           "family": "Arial Black",
           "size": 16
          },
          "text": "Percentage of model output<br>explained (%)"
         }
        },
        "yaxis": {
         "anchor": "x",
         "domain": [
          0,
          1
         ],
         "title": {
          "font": {
           "color": "rgb(50, 50, 50)",
           "family": "Arial Black",
           "size": 16
          },
          "text": "Cumulative distribution over<br>dataset's instances (%)"
         }
        },
        "yaxis2": {
         "anchor": "x2",
         "domain": [
          0,
          1
         ],
         "title": {
          "font": {
           "color": "rgb(50, 50, 50)",
           "family": "Arial Black",
           "size": 16
          },
          "text": "Cumulative distribution over<br>dataset's instances (%)"
         }
        }
       }
      }
     },
     "metadata": {},
     "output_type": "display_data"
    }
   ],
   "source": [
    "# xpl.plot.compacity_plot(selection=index, approx=.85, nb_features=3)\n",
    "xpl.plot.compacity_plot()"
   ]
  },
  {
   "cell_type": "code",
   "execution_count": 39,
   "metadata": {},
   "outputs": [
    {
     "data": {
      "application/vnd.plotly.v1+json": {
       "config": {
        "plotlyServerURL": "https://plot.ly"
       },
       "data": [
        {
         "hovertemplate": "%{hovertext}<extra></extra>",
         "hovertext": [
          "<b>Feature: %dl_volume</b><br />Importance: 0.00754026088701642<br />Variability: 0.27983824565561244",
          "<b>Feature: %tcp_protocol</b><br />Importance: 0.15454479345808858<br />Variability: 0.07401721770672695",
          "<b>Feature: %udp_protocol</b><br />Importance: 0.0<br />Variability: 0.0",
          "<b>Feature: %ul_volume</b><br />Importance: 0.0<br />Variability: 0.0",
          "<b>Feature: avg_dl_volume</b><br />Importance: 0.09754979027354199<br />Variability: 0.27510512847650753",
          "<b>Feature: avg_ul_volume</b><br />Importance: 0.11641795589872028<br />Variability: 0.09130852209042212",
          "<b>Feature: dl_data_volume</b><br />Importance: 0.0016124646528623999<br />Variability: 0.26235595898811565",
          "<b>Feature: dl_packet</b><br />Importance: 0.0037734851063958006<br />Variability: 0.3348205767264438",
          "<b>Feature: kB/s</b><br />Importance: 0.040018185009451014<br />Variability: 0.4355620571657631",
          "<b>Feature: max_dl_volume</b><br />Importance: 0.0023382330859970787<br />Variability: 0.08111178882979363",
          "<b>Feature: max_ul_volume</b><br />Importance: 0.012913767442755077<br />Variability: 0.1611966767034534",
          "<b>Feature: min_dl_volume</b><br />Importance: 0.06076857185234194<br />Variability: 0.09888649031965305",
          "<b>Feature: min_ul_volume</b><br />Importance: 0.0<br />Variability: 0.0",
          "<b>Feature: nb_downlink_packet</b><br />Importance: 0.009779974818229675<br />Variability: 0.24163735729525798",
          "<b>Feature: nb_packet/s</b><br />Importance: 0.0<br />Variability: 0.0",
          "<b>Feature: nb_uplink_packet</b><br />Importance: 0.015427270187469928<br />Variability: 0.18890334712240198",
          "<b>Feature: session_time</b><br />Importance: 0.011047294650874707<br />Variability: 0.6353005220604878",
          "<b>Feature: std_dl_volume</b><br />Importance: 0.456763296801111<br />Variability: 0.10185825410197773",
          "<b>Feature: std_ul_volume</b><br />Importance: 0.0056770143625528915<br />Variability: 0.06557788812535127",
          "<b>Feature: ul_data_volume</b><br />Importance: 0.003827608111516937<br />Variability: 0.31107252445755246",
          "<b>Feature: ul_packet</b><br />Importance: 0.0<br />Variability: 0.0"
         ],
         "marker": {
          "color": [
           0.00754026088701642,
           0.15454479345808858,
           0,
           0,
           0.09754979027354199,
           0.11641795589872028,
           0.0016124646528623999,
           0.0037734851063958006,
           0.040018185009451014,
           0.0023382330859970787,
           0.012913767442755077,
           0.06076857185234194,
           0,
           0.009779974818229675,
           0,
           0.015427270187469928,
           0.011047294650874707,
           0.456763296801111,
           0.0056770143625528915,
           0.003827608111516937,
           0
          ],
          "colorscale": [
           [
            0,
            "rgb(52, 55, 54)"
           ],
           [
            0,
            "rgb(74, 99, 138)"
           ],
           [
            0,
            "rgb(116, 153, 214)"
           ],
           [
            0.005119135233440659,
            "rgb(162, 188, 213)"
           ],
           [
            0.008379850435276101,
            "rgb(212, 234, 242)"
           ],
           [
            0.016508027111249452,
            "rgb(235, 216, 134)"
           ],
           [
            0.024186038432253993,
            "rgb(255, 204, 83)"
           ],
           [
            0.03377519668395651,
            "rgb(244, 192, 0)"
           ],
           [
            0.13304171389848443,
            "rgb(255, 166, 17)"
           ],
           [
            0.25487589899197244,
            "rgb(255, 123, 38)"
           ],
           [
            1,
            "rgb(255, 77, 7)"
           ]
          ],
          "line": {
           "color": "white",
           "width": 0.8
          },
          "opacity": 0.8,
          "size": 10
         },
         "mode": "markers",
         "showlegend": false,
         "type": "scatter",
         "x": [
          0.27983824565561244,
          0.07401721770672695,
          0,
          0,
          0.27510512847650753,
          0.09130852209042212,
          0.26235595898811565,
          0.3348205767264438,
          0.4355620571657631,
          0.08111178882979363,
          0.1611966767034534,
          0.09888649031965305,
          0,
          0.24163735729525798,
          0,
          0.18890334712240198,
          0.6353005220604878,
          0.10185825410197773,
          0.06557788812535127,
          0.31107252445755246,
          0
         ],
         "y": [
          0.00754026088701642,
          0.15454479345808858,
          0,
          0,
          0.09754979027354199,
          0.11641795589872028,
          0.0016124646528623999,
          0.0037734851063958006,
          0.040018185009451014,
          0.0023382330859970787,
          0.012913767442755077,
          0.06076857185234194,
          0,
          0.009779974818229675,
          0,
          0.015427270187469928,
          0.011047294650874707,
          0.456763296801111,
          0.0056770143625528915,
          0.003827608111516937,
          0
         ]
        },
        {
         "hoverinfo": "none",
         "line": {
          "color": "rgba(117, 152, 189, 0.9)",
          "dash": "dot"
         },
         "mode": "lines",
         "name": "<-- Stable",
         "type": "scatter",
         "x": [
          0.15,
          0.15,
          0.15,
          0.15,
          0.15,
          0.15,
          0.15,
          0.15,
          0.15,
          0.15,
          0.15,
          0.15,
          0.15,
          0.15,
          0.15,
          0.15,
          0.15,
          0.15,
          0.15,
          0.15,
          0.15
         ],
         "y": [
          0,
          0.456763296801111
         ]
        },
        {
         "hoverinfo": "none",
         "line": {
          "color": "rgba(255, 166, 17, 0.9)",
          "dash": "dot"
         },
         "mode": "lines",
         "name": "--> Unstable",
         "type": "scatter",
         "x": [
          0.3,
          0.3,
          0.3,
          0.3,
          0.3,
          0.3,
          0.3,
          0.3,
          0.3,
          0.3,
          0.3,
          0.3,
          0.3,
          0.3,
          0.3,
          0.3,
          0.3,
          0.3,
          0.3,
          0.3,
          0.3
         ],
         "y": [
          0,
          0.456763296801111
         ]
        }
       ],
       "layout": {
        "coloraxis": {
         "showscale": false
        },
        "hovermode": "closest",
        "template": {
         "data": {
          "scatter": [
           {
            "type": "scatter"
           }
          ]
         }
        },
        "title": {
         "font": {
          "color": "rgb(50, 50, 50)",
          "family": "Arial",
          "size": 24
         },
         "pad": {
          "b": 50
         },
         "text": "Importance & Local Stability of explanations:<span style='font-size: 16px;'><br />How similar are explanations for closeby neighbours?</span>",
         "x": 0.5,
         "xanchor": "center",
         "yanchor": "bottom"
        },
        "xaxis": {
         "automargin": true,
         "range": [
          -0.03,
          0.6653005220604878
         ],
         "title": {
          "font": {
           "color": "rgb(50, 50, 50)",
           "family": "Arial Black",
           "size": 16
          },
          "text": "Variability of the Normalized Local Contribution Values<span style='font-size: 12px;'><br />(standard deviation / mean)</span>"
         }
        },
        "yaxis": {
         "automargin": true,
         "title": {
          "font": {
           "color": "rgb(50, 50, 50)",
           "family": "Arial Black",
           "size": 16
          },
          "text": "Importance<span style='font-size: 12px;'><br />(Average contributions)</span>"
         }
        }
       }
      }
     },
     "metadata": {},
     "output_type": "display_data"
    }
   ],
   "source": [
    "xpl.plot.stability_plot()"
   ]
  },
  {
   "cell_type": "code",
   "execution_count": 50,
   "metadata": {},
   "outputs": [
    {
     "data": {
      "application/vnd.plotly.v1+json": {
       "config": {
        "plotlyServerURL": "https://plot.ly"
       },
       "data": [
        {
         "marker": {
          "color": "rgb(116, 153, 214)"
         },
         "name": "min_dl_volume",
         "showlegend": false,
         "type": "box",
         "x": [
          0.014513703994452953,
          0.02406895160675049
         ]
        },
        {
         "marker": {
          "color": "rgb(255, 166, 17)"
         },
         "name": "avg_ul_volume",
         "showlegend": false,
         "type": "box",
         "x": [
          0.01451369933784008,
          0.02817234769463539
         ]
        },
        {
         "marker": {
          "color": "rgb(255, 166, 17)"
         },
         "name": "avg_dl_volume",
         "showlegend": false,
         "type": "box",
         "x": [
          0.014513715170323849,
          0.028172364458441734
         ]
        },
        {
         "marker": {
          "color": "rgb(255, 166, 17)"
         },
         "name": "%tcp_protocol",
         "showlegend": false,
         "type": "box",
         "x": [
          0.014513668604195118,
          0.03341539949178696
         ]
        },
        {
         "marker": {
          "color": "rgb(255, 77, 7)"
         },
         "name": "std_dl_volume",
         "showlegend": false,
         "type": "box",
         "x": [
          0.01451369933784008,
          0.03696049004793167
         ]
        },
        {
         "hoverinfo": "none",
         "marker": {
          "color": [
           0.05955486558377743,
           0.4128984361886978
          ],
          "colorbar": {
           "len": 300,
           "lenmode": "pixels",
           "thickness": 20,
           "title": {
            "text": "Importance<br />(Average contributions)"
           },
           "y": 1,
           "yanchor": "top",
           "ypad": 60
          },
          "colorscale": [
           [
            0,
            "rgb(52, 55, 54)"
           ],
           [
            0.07471997571321667,
            "rgb(74, 99, 138)"
           ],
           [
            0.1494399514264334,
            "rgb(116, 153, 214)"
           ],
           [
            0.19304606009645187,
            "rgb(162, 188, 213)"
           ],
           [
            0.205538301723272,
            "rgb(212, 234, 242)"
           ],
           [
            0.21803054335009217,
            "rgb(235, 216, 134)"
           ],
           [
            0.24631393846127,
            "rgb(255, 204, 83)"
           ],
           [
            0.2745973335724478,
            "rgb(244, 192, 0)"
           ],
           [
            0.4309912249024296,
            "rgb(255, 166, 17)"
           ],
           [
            0.7154956124512147,
            "rgb(255, 123, 38)"
           ],
           [
            1,
            "rgb(255, 77, 7)"
           ]
          ],
          "showscale": true,
          "size": 1
         },
         "mode": "markers",
         "showlegend": false,
         "type": "scatter",
         "x": [
          null
         ],
         "y": [
          null
         ]
        },
        {
         "hoverinfo": "none",
         "line": {
          "color": "rgba(117, 152, 189, 0.9)",
          "dash": "dot"
         },
         "mode": "lines",
         "name": "<-- Stable",
         "type": "scatter",
         "x": [
          0.15,
          0.15,
          0.15,
          0.15,
          0.15
         ],
         "y": [
          "%tcp_protocol",
          "avg_dl_volume",
          "avg_ul_volume",
          "min_dl_volume",
          "std_dl_volume"
         ]
        },
        {
         "hoverinfo": "none",
         "line": {
          "color": "rgba(255, 166, 17, 0.9)",
          "dash": "dot"
         },
         "mode": "lines",
         "name": "--> Unstable",
         "type": "scatter",
         "x": [
          0.3,
          0.3,
          0.3,
          0.3,
          0.3
         ],
         "y": [
          "%tcp_protocol",
          "avg_dl_volume",
          "avg_ul_volume",
          "min_dl_volume",
          "std_dl_volume"
         ]
        }
       ],
       "layout": {
        "coloraxis": {
         "showscale": false
        },
        "height": 500,
        "hovermode": "closest",
        "template": {
         "data": {
          "scatter": [
           {
            "type": "scatter"
           }
          ]
         }
        },
        "title": {
         "font": {
          "color": "rgb(50, 50, 50)",
          "family": "Arial",
          "size": 24
         },
         "pad": {
          "b": 50
         },
         "text": "Importance & Local Stability of explanations:<span style='font-size: 16px;'><br />How similar are explanations for closeby neighbours?</span>",
         "x": 0.5,
         "xanchor": "center",
         "yanchor": "bottom"
        },
        "xaxis": {
         "automargin": true,
         "title": {
          "font": {
           "color": "rgb(50, 50, 50)",
           "family": "Arial Black",
           "size": 16
          },
          "text": "Normalized local contribution value variability"
         }
        },
        "yaxis": {
         "automargin": true,
         "title": {
          "font": {
           "color": "rgb(50, 50, 50)",
           "family": "Arial Black",
           "size": 16
          },
          "text": ""
         }
        }
       }
      }
     },
     "metadata": {},
     "output_type": "display_data"
    }
   ],
   "source": [
    "xpl.plot.stability_plot(selection=[100,9], max_features=5, distribution=\"boxplot\")"
   ]
  },
  {
   "cell_type": "code",
   "execution_count": 52,
   "metadata": {},
   "outputs": [
    {
     "data": {
      "application/vnd.plotly.v1+json": {
       "config": {
        "plotlyServerURL": "https://plot.ly"
       },
       "data": [
        {
         "marker": {
          "color": "rgba(117, 152, 189, 0.9)"
         },
         "name": "10th closest neighbor",
         "opacity": 0.2,
         "orientation": "h",
         "type": "bar",
         "x": [
          -0.00746087497100234,
          -0.009552525356411934,
          -0.010299584828317165,
          -0.020691998302936554,
          -0.05242697894573212,
          0.06126288324594498,
          -0.12645266950130463,
          -0.13756631314754486,
          -0.15727302432060242,
          -0.3985995948314667
         ],
         "y": [
          "session_time",
          "nb_downlink_packet",
          "max_ul_volume",
          "nb_uplink_packet",
          "kB/s",
          "min_dl_volume",
          "avg_ul_volume",
          "avg_dl_volume",
          "%tcp_protocol",
          "std_dl_volume"
         ]
        },
        {
         "marker": {
          "color": "rgba(117, 152, 189, 0.9)"
         },
         "name": "9th closest neighbor",
         "opacity": 0.28,
         "orientation": "h",
         "type": "bar",
         "x": [
          -0.007321763783693314,
          -0.009374414570629597,
          -0.010107544250786304,
          -0.020306186750531197,
          -0.051449455320835114,
          0.05758177489042282,
          -0.12409491091966629,
          -0.13500133156776428,
          -0.15687943994998932,
          -0.4145053029060364
         ],
         "y": [
          "session_time",
          "nb_downlink_packet",
          "max_ul_volume",
          "nb_uplink_packet",
          "kB/s",
          "min_dl_volume",
          "avg_ul_volume",
          "avg_dl_volume",
          "%tcp_protocol",
          "std_dl_volume"
         ]
        },
        {
         "marker": {
          "color": "rgba(117, 152, 189, 0.9)"
         },
         "name": "8th closest neighbor",
         "opacity": 0.36,
         "orientation": "h",
         "type": "bar",
         "x": [
          -0.007323349826037884,
          -0.009376444853842258,
          -0.010109733790159225,
          -0.02031058445572853,
          -0.05146060138940811,
          0.06013363227248192,
          -0.12412179261445999,
          -0.1350305825471878,
          -0.15437403321266174,
          -0.4145950675010681
         ],
         "y": [
          "session_time",
          "nb_downlink_packet",
          "max_ul_volume",
          "nb_uplink_packet",
          "kB/s",
          "min_dl_volume",
          "avg_ul_volume",
          "avg_dl_volume",
          "%tcp_protocol",
          "std_dl_volume"
         ]
        },
        {
         "marker": {
          "color": "rgba(117, 152, 189, 0.9)"
         },
         "name": "7th closest neighbor",
         "opacity": 0.44000000000000006,
         "orientation": "h",
         "type": "bar",
         "x": [
          -0.00746087497100234,
          -0.009552525356411934,
          -0.010299584828317165,
          -0.020691998302936554,
          -0.05242697894573212,
          0.06126288324594498,
          -0.12645266950130463,
          -0.13756631314754486,
          -0.15727302432060242,
          -0.3985995948314667
         ],
         "y": [
          "session_time",
          "nb_downlink_packet",
          "max_ul_volume",
          "nb_uplink_packet",
          "kB/s",
          "min_dl_volume",
          "avg_ul_volume",
          "avg_dl_volume",
          "%tcp_protocol",
          "std_dl_volume"
         ]
        },
        {
         "marker": {
          "color": "rgba(117, 152, 189, 0.9)"
         },
         "name": "6th closest neighbor",
         "opacity": 0.52,
         "orientation": "h",
         "type": "bar",
         "x": [
          -0.007450249046087265,
          -0.009538920596241951,
          -0.010284915566444397,
          -0.020662527531385422,
          -0.052352312952280045,
          0.05859224125742912,
          -0.12627257406711578,
          -0.13737039268016815,
          -0.15963242948055267,
          -0.4042308032512665
         ],
         "y": [
          "session_time",
          "nb_downlink_packet",
          "max_ul_volume",
          "nb_uplink_packet",
          "kB/s",
          "min_dl_volume",
          "avg_ul_volume",
          "avg_dl_volume",
          "%tcp_protocol",
          "std_dl_volume"
         ]
        },
        {
         "marker": {
          "color": "rgba(117, 152, 189, 0.9)"
         },
         "name": "5th closest neighbor",
         "opacity": 0.6000000000000001,
         "orientation": "h",
         "type": "bar",
         "x": [
          -0.00746087497100234,
          -0.009552525356411934,
          -0.010299584828317165,
          -0.020691998302936554,
          -0.05242697894573212,
          0.06126288324594498,
          -0.12645266950130463,
          -0.13756631314754486,
          -0.15727302432060242,
          -0.3985995948314667
         ],
         "y": [
          "session_time",
          "nb_downlink_packet",
          "max_ul_volume",
          "nb_uplink_packet",
          "kB/s",
          "min_dl_volume",
          "avg_ul_volume",
          "avg_dl_volume",
          "%tcp_protocol",
          "std_dl_volume"
         ]
        },
        {
         "marker": {
          "color": "rgba(117, 152, 189, 0.9)"
         },
         "name": "4th closest neighbor",
         "opacity": 0.6800000000000002,
         "orientation": "h",
         "type": "bar",
         "x": [
          -0.00746087497100234,
          -0.009552525356411934,
          -0.010299584828317165,
          -0.020691998302936554,
          -0.05242697894573212,
          0.06126288324594498,
          -0.12645266950130463,
          -0.13756631314754486,
          -0.15727302432060242,
          -0.3985995948314667
         ],
         "y": [
          "session_time",
          "nb_downlink_packet",
          "max_ul_volume",
          "nb_uplink_packet",
          "kB/s",
          "min_dl_volume",
          "avg_ul_volume",
          "avg_dl_volume",
          "%tcp_protocol",
          "std_dl_volume"
         ]
        },
        {
         "marker": {
          "color": "rgba(117, 152, 189, 0.9)"
         },
         "name": "3rd closest neighbor",
         "opacity": 0.76,
         "orientation": "h",
         "type": "bar",
         "x": [
          -0.00746087497100234,
          -0.009552525356411934,
          -0.010299584828317165,
          -0.020691998302936554,
          -0.05242697894573212,
          0.06126288324594498,
          -0.12645266950130463,
          -0.13756631314754486,
          -0.15727302432060242,
          -0.3985995948314667
         ],
         "y": [
          "session_time",
          "nb_downlink_packet",
          "max_ul_volume",
          "nb_uplink_packet",
          "kB/s",
          "min_dl_volume",
          "avg_ul_volume",
          "avg_dl_volume",
          "%tcp_protocol",
          "std_dl_volume"
         ]
        },
        {
         "marker": {
          "color": "rgba(117, 152, 189, 0.9)"
         },
         "name": "2nd closest neighbor",
         "opacity": 0.8400000000000001,
         "orientation": "h",
         "type": "bar",
         "x": [
          -0.0073320260271430016,
          -0.009387553669512272,
          -0.010121711529791355,
          -0.020334647968411446,
          -0.05152156949043274,
          0.06020487844944,
          -0.12426884472370148,
          -0.13519056141376495,
          -0.15455691516399384,
          -0.4089856743812561
         ],
         "y": [
          "session_time",
          "nb_downlink_packet",
          "max_ul_volume",
          "nb_uplink_packet",
          "kB/s",
          "min_dl_volume",
          "avg_ul_volume",
          "avg_dl_volume",
          "%tcp_protocol",
          "std_dl_volume"
         ]
        },
        {
         "marker": {
          "color": "rgba(117, 152, 189, 0.9)"
         },
         "name": "closest neighbor",
         "opacity": 0.9199999999999999,
         "orientation": "h",
         "type": "bar",
         "x": [
          0.10760843008756638,
          -0.008613788522779942,
          -0.00928743276745081,
          -0.018658572807908058,
          -0.04727492108941078,
          0.057580865919589996,
          -0.1140260323882103,
          -0.12404751777648926,
          -0.13947927951812744,
          -0.35677751898765564
         ],
         "y": [
          "session_time",
          "nb_downlink_packet",
          "max_ul_volume",
          "nb_uplink_packet",
          "kB/s",
          "min_dl_volume",
          "avg_ul_volume",
          "avg_dl_volume",
          "%tcp_protocol",
          "std_dl_volume"
         ]
        },
        {
         "marker": {
          "color": "rgba(255, 166, 17, 0.9)"
         },
         "name": "instance",
         "opacity": 1,
         "orientation": "h",
         "type": "bar",
         "x": [
          -0.00746087497100234,
          -0.009552525356411934,
          -0.010299584828317165,
          -0.020691998302936554,
          -0.05242697894573212,
          0.06126288324594498,
          -0.12645266950130463,
          -0.13756631314754486,
          -0.15727302432060242,
          -0.3985995948314667
         ],
         "y": [
          "session_time",
          "nb_downlink_packet",
          "max_ul_volume",
          "nb_uplink_packet",
          "kB/s",
          "min_dl_volume",
          "avg_ul_volume",
          "avg_dl_volume",
          "%tcp_protocol",
          "std_dl_volume"
         ]
        }
       ],
       "layout": {
        "barmode": "group",
        "height": 1210,
        "hovermode": "closest",
        "legend": {
         "traceorder": "reversed"
        },
        "template": {
         "data": {
          "scatter": [
           {
            "type": "scatter"
           }
          ]
         }
        },
        "title": {
         "font": {
          "color": "rgb(50, 50, 50)",
          "family": "Arial",
          "size": 24
         },
         "pad": {
          "b": 50
         },
         "text": "Comparing local explanations in a neighborhood - Id: <b>9</b><span style='font-size: 16px;'><br />How similar are explanations for closeby neighbours?</span>",
         "x": 0.5,
         "xanchor": "center",
         "yanchor": "bottom"
        },
        "xaxis": {
         "automargin": true,
         "side": "bottom",
         "title": {
          "font": {
           "color": "rgb(50, 50, 50)",
           "family": "Arial Black",
           "size": 16
          },
          "text": "Normalized contribution values"
         }
        },
        "yaxis": {
         "automargin": true,
         "title": {
          "font": {
           "color": "rgb(50, 50, 50)",
           "family": "Arial Black",
           "size": 16
          },
          "text": ""
         }
        }
       }
      }
     },
     "metadata": {},
     "output_type": "display_data"
    }
   ],
   "source": [
    "xpl.plot.local_neighbors_plot(index=9)"
   ]
  },
  {
   "cell_type": "code",
   "execution_count": null,
   "metadata": {},
   "outputs": [],
   "source": [
    "# import shap\n",
    "\n",
    "# treeSHAP = shap.TreeExplainer(clf).shap_values(X_train, check_additivity=False)[1]\n",
    "# samplingSHAP = shap.SamplingExplainer(clf.predict_proba, shap.kmeans(X_train, 200)).shap_values(X_train, check_additivity=False)[1]\n",
    "# kernelSHAP = shap.KernelExplainer(clf.predict_proba, shap.kmeans(X_train, 200)).shap_values(X_train, check_additivity=False)[1]\n",
    "\n",
    "# treeSHAP = pd.DataFrame(treeSHAP, columns=X_train.columns)\n",
    "# samplingSHAP = pd.DataFrame(samplingSHAP, columns=X_train.columns)\n",
    "# kernelSHAP = pd.DataFrame(kernelSHAP, columns=X_train.columns)"
   ]
  },
  {
   "cell_type": "code",
   "execution_count": null,
   "metadata": {},
   "outputs": [],
   "source": [
    "xpl.generate_report(\n",
    "    output_file='report.html',\n",
    "    project_info_file='shapash_project_info.yml',\n",
    "    x_train=X_train,\n",
    "    y_train=y_train_orig,\n",
    "    y_test=y_test_orig,\n",
    "    title_story=\"User Network Activities Classification\",\n",
    "    title_description=\"This document is a data science report of the user network activities classification.\",\n",
    "    metrics=[\n",
    "        {\n",
    "            'path': 'sklearn.metrics.mean_squared_error',\n",
    "            'name': 'Mean squared error',  # Optional : name that will be displayed next to the metric\n",
    "        },\n",
    "    ]\n",
    ")"
   ]
  },
  {
   "cell_type": "code",
   "execution_count": null,
   "metadata": {},
   "outputs": [],
   "source": []
  }
 ],
 "metadata": {
  "kernelspec": {
   "display_name": "mi_xai",
   "language": "python",
   "name": "python3"
  },
  "language_info": {
   "codemirror_mode": {
    "name": "ipython",
    "version": 3
   },
   "file_extension": ".py",
   "mimetype": "text/x-python",
   "name": "python",
   "nbconvert_exporter": "python",
   "pygments_lexer": "ipython3",
   "version": "3.9.15"
  },
  "orig_nbformat": 4
 },
 "nbformat": 4,
 "nbformat_minor": 2
}
