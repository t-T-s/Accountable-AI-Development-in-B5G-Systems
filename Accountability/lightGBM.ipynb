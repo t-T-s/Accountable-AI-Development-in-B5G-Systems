{
 "cells": [
  {
   "attachments": {},
   "cell_type": "markdown",
   "metadata": {},
   "source": [
    "# Import binary data - Taken from binarized dataset\n"
   ]
  },
  {
   "cell_type": "code",
   "execution_count": 1,
   "metadata": {},
   "outputs": [
    {
     "name": "stderr",
     "output_type": "stream",
     "text": [
      "C:\\Users\\thuli\\AppData\\Roaming\\Python\\Python39\\site-packages\\xgboost\\compat.py:31: FutureWarning: pandas.Int64Index is deprecated and will be removed from pandas in a future version. Use pandas.Index with the appropriate dtype instead.\n",
      "  from pandas import MultiIndex, Int64Index\n"
     ]
    }
   ],
   "source": [
    "import xgboost as xgb\n",
    "import pandas as pd\n",
    "import numpy as np\n",
    "import matplotlib.pyplot as plt\n",
    "from sklearn.metrics import mean_squared_error\n",
    "from sklearn.preprocessing import StandardScaler\n",
    "from sklearn.model_selection import train_test_split"
   ]
  },
  {
   "cell_type": "code",
   "execution_count": 2,
   "metadata": {},
   "outputs": [
    {
     "name": "stdout",
     "output_type": "stream",
     "text": [
      "The shape of the full dataset: (382, 22)\n",
      "Features: ['session_time', '%tcp_protocol', '%udp_protocol', 'ul_data_volume', 'max_ul_volume', 'min_ul_volume', 'avg_ul_volume', 'std_ul_volume', '%ul_volume', 'dl_data_volume', 'max_dl_volume', 'min_dl_volume', 'avg_dl_volume', 'std_dl_volume', '%dl_volume', 'nb_uplink_packet', 'nb_downlink_packet', 'ul_packet', 'dl_packet', 'kB/s', 'nb_packet/s']\n"
     ]
    }
   ],
   "source": [
    "# Load the dataset from csv files\n",
    "full_dataset = pd.read_csv(\"../../output_full_web_or_not.csv\", header=0, usecols=[*range(1,23)], sep=\";\") \n",
    "full_dataset.dropna(axis = 0, inplace = True)\n",
    "print(\"The shape of the full dataset: \" + str(full_dataset.shape))\n",
    "\n",
    "full_dataset.head()\n",
    "\n",
    "# Set of features in the dataset\n",
    "features = list(full_dataset.columns)\n",
    "print(\"Features: \" + str(features[:-1]))\n",
    "\n",
    "activity_df = full_dataset"
   ]
  },
  {
   "cell_type": "code",
   "execution_count": 3,
   "metadata": {},
   "outputs": [
    {
     "name": "stdout",
     "output_type": "stream",
     "text": [
      "Shape of the training dataset: (267, 21), (267, 1)\n",
      "Shape of the testing dataset: (115, 21), (115, 1)\n"
     ]
    }
   ],
   "source": [
    "y_df = activity_df['output'].to_frame()\n",
    "X_df = activity_df[activity_df.columns.difference(['output'])]\n",
    "\n",
    "X_train, X_test, y_train_orig, y_test_orig = train_test_split(X_df, y_df, stratify=y_df, train_size=0.7, random_state=9)\n",
    "\n",
    "print(\"Shape of the training dataset: \" + str(X_train.shape) + \", \" + str(y_train_orig.shape))\n",
    "print(\"Shape of the testing dataset: \" + str(X_test.shape) + \", \" + str(y_test_orig.shape))\n",
    "\n",
    "# print(X_train.index.tolist())"
   ]
  },
  {
   "cell_type": "code",
   "execution_count": 4,
   "metadata": {},
   "outputs": [
    {
     "data": {
      "text/plain": [
       "output\n",
       "1         212\n",
       "2          55\n",
       "dtype: int64"
      ]
     },
     "execution_count": 4,
     "metadata": {},
     "output_type": "execute_result"
    }
   ],
   "source": [
    "y_train_orig.value_counts()"
   ]
  },
  {
   "attachments": {},
   "cell_type": "markdown",
   "metadata": {},
   "source": [
    "# Create model"
   ]
  },
  {
   "cell_type": "code",
   "execution_count": 5,
   "metadata": {},
   "outputs": [
    {
     "name": "stderr",
     "output_type": "stream",
     "text": [
      "c:\\Users\\thuli\\anaconda3\\envs\\mi_xai\\lib\\site-packages\\sklearn\\preprocessing\\_label.py:98: DataConversionWarning: A column-vector y was passed when a 1d array was expected. Please change the shape of y to (n_samples, ), for example using ravel().\n",
      "  y = column_or_1d(y, warn=True)\n",
      "c:\\Users\\thuli\\anaconda3\\envs\\mi_xai\\lib\\site-packages\\sklearn\\preprocessing\\_label.py:133: DataConversionWarning: A column-vector y was passed when a 1d array was expected. Please change the shape of y to (n_samples, ), for example using ravel().\n",
      "  y = column_or_1d(y, warn=True)\n"
     ]
    },
    {
     "data": {
      "text/plain": [
       "LGBMClassifier()"
      ]
     },
     "execution_count": 5,
     "metadata": {},
     "output_type": "execute_result"
    }
   ],
   "source": [
    "import lightgbm as ltb\n",
    "clf = ltb.LGBMClassifier()\n",
    "# Using Y_train here got an error of shape\n",
    "clf.fit(X_train, y_train_orig)"
   ]
  },
  {
   "attachments": {},
   "cell_type": "markdown",
   "metadata": {},
   "source": [
    "# Shapash"
   ]
  },
  {
   "cell_type": "code",
   "execution_count": 6,
   "metadata": {},
   "outputs": [],
   "source": [
    "from shapash import SmartExplainer\n",
    "# features = list(features)\n",
    "features_dict = dict(zip(features, features))\n",
    "xpl = SmartExplainer(\n",
    "    model=clf,\n",
    "    #preprocessing=encoder,   # Optional: compile step can use inverse_transform method\n",
    "    features_dict=features_dict # optional parameter, specifies label for features name \n",
    ")\n",
    "xpl.compile(x=X_test,\n",
    "            # y_target=y_test_orig # Optional: allows to display True Values vs Predicted Values\n",
    "           )"
   ]
  },
  {
   "cell_type": "code",
   "execution_count": 7,
   "metadata": {},
   "outputs": [
    {
     "data": {
      "application/vnd.plotly.v1+json": {
       "config": {
        "plotlyServerURL": "https://plot.ly"
       },
       "data": [
        {
         "customdata": [
          "ul_packet",
          "ul_data_volume",
          "kB/s",
          "min_ul_volume",
          "nb_downlink_packet",
          "nb_uplink_packet",
          "dl_packet",
          "dl_data_volume",
          "max_ul_volume",
          "%dl_volume",
          "std_ul_volume",
          "%udp_protocol",
          "%ul_volume",
          "min_dl_volume",
          "max_dl_volume",
          "session_time",
          "avg_dl_volume",
          "%tcp_protocol",
          "avg_ul_volume",
          "std_dl_volume"
         ],
         "hovertemplate": "Feature: %{customdata}<br />Contribution: %{x:.4f}<extra></extra>",
         "marker": {
          "color": [
           "rgba(244, 192, 0, 1.0)",
           "rgba(244, 192, 0, 1.0)",
           "rgba(244, 192, 0, 1.0)",
           "rgba(244, 192, 0, 1.0)",
           "rgba(244, 192, 0, 1.0)",
           "rgba(244, 192, 0, 1.0)",
           "rgba(244, 192, 0, 1.0)",
           "rgba(244, 192, 0, 1.0)",
           "rgba(244, 192, 0, 1.0)",
           "rgba(244, 192, 0, 1.0)",
           "rgba(244, 192, 0, 1.0)",
           "rgba(244, 192, 0, 1.0)",
           "rgba(244, 192, 0, 1.0)",
           "rgba(244, 192, 0, 1.0)",
           "rgba(244, 192, 0, 1.0)",
           "rgba(244, 192, 0, 1.0)",
           "rgba(244, 192, 0, 1.0)",
           "rgba(244, 192, 0, 1.0)",
           "rgba(244, 192, 0, 1.0)",
           "rgba(244, 192, 0, 1.0)"
          ],
          "line": {
           "color": "rgba(52, 55, 54, 0.8)",
           "width": 0.5
          }
         },
         "name": "Global",
         "orientation": "h",
         "type": "bar",
         "x": [
          0.0017,
          0.0019,
          0.0023,
          0.003,
          0.0034,
          0.0062,
          0.0064,
          0.0064,
          0.0085,
          0.0087,
          0.0132,
          0.0152,
          0.0153,
          0.0206,
          0.0295,
          0.0341,
          0.045,
          0.2162,
          0.2549,
          0.3077
         ],
         "y": [
          "ul_packet",
          "ul_data_volume",
          "kB/s",
          "min_ul_volume",
          "nb_downlink_packet",
          "nb_uplink_packet",
          "dl_packet",
          "dl_data_volume",
          "max_ul_volume",
          "%dl_volume",
          "std_ul_volume",
          "%udp_protocol",
          "%ul_volume",
          "min_dl_volume",
          "max_dl_volume",
          "session_time",
          "avg_dl_volume",
          "%tcp_protocol",
          "avg_ul_volume",
          "std_dl_volume"
         ]
        }
       ],
       "layout": {
        "autosize": false,
        "barmode": "group",
        "height": 500,
        "hovermode": "closest",
        "margin": {
         "b": 50,
         "l": 160,
         "r": 0,
         "t": 95
        },
        "template": {
         "data": {
          "scatter": [
           {
            "type": "scatter"
           }
          ]
         }
        },
        "title": {
         "font": {
          "color": "rgb(50, 50, 50)",
          "family": "Arial",
          "size": 24
         },
         "text": "Features Importance<br><sup>Response: <b>2</b> - Total number of features: 21</sup>",
         "x": 0.5,
         "xanchor": "center",
         "y": 0.9,
         "yanchor": "middle"
        },
        "width": 900,
        "xaxis": {
         "title": {
          "font": {
           "color": "rgb(50, 50, 50)",
           "family": "Arial Black",
           "size": 16
          },
          "text": "Contribution"
         }
        },
        "yaxis": {
         "automargin": true,
         "dtick": 1,
         "tickmode": "array",
         "ticktext": [
          "ul_packet",
          "ul_data_volume",
          "kB/s",
          "min_ul_volume",
          "nb_downlink_packet",
          "nb_uplink_packet",
          "dl_packet",
          "dl_data_volume",
          "max_ul_volume",
          "%dl_volume",
          "std_ul_volume",
          "%udp_protocol",
          "%ul_volume",
          "min_dl_volume",
          "max_dl_volume",
          "session_time",
          "avg_dl_volume",
          "%tcp_protocol",
          "avg_ul_volume",
          "std_dl_volume"
         ],
         "tickvals": [
          "ul_packet",
          "ul_data_volume",
          "kB/s",
          "min_ul_volume",
          "nb_downlink_packet",
          "nb_uplink_packet",
          "dl_packet",
          "dl_data_volume",
          "max_ul_volume",
          "%dl_volume",
          "std_ul_volume",
          "%udp_protocol",
          "%ul_volume",
          "min_dl_volume",
          "max_dl_volume",
          "session_time",
          "avg_dl_volume",
          "%tcp_protocol",
          "avg_ul_volume",
          "std_dl_volume"
         ],
         "title": {
          "font": {
           "color": "rgb(50, 50, 50)",
           "family": "Arial Black",
           "size": 16
          }
         }
        }
       }
      }
     },
     "metadata": {},
     "output_type": "display_data"
    }
   ],
   "source": [
    "xpl.plot.features_importance()"
   ]
  },
  {
   "cell_type": "code",
   "execution_count": 8,
   "metadata": {},
   "outputs": [
    {
     "data": {
      "application/vnd.plotly.v1+json": {
       "config": {
        "plotlyServerURL": "https://plot.ly"
       },
       "data": [
        {
         "customdata": [
          [
           99.6474217717056,
           59
          ],
          [
           89.1891891891892,
           137
          ],
          [
           100,
           323
          ],
          [
           0,
           198
          ],
          [
           100,
           125
          ],
          [
           99.8981462619678,
           286
          ],
          [
           1.1857707509881423,
           158
          ],
          [
           99.1150442477876,
           240
          ],
          [
           2.380952380952381,
           351
          ],
          [
           100,
           1
          ],
          [
           99.89163415691374,
           300
          ],
          [
           100,
           296
          ],
          [
           5.813953488372093,
           348
          ],
          [
           0.3766478342749529,
           216
          ],
          [
           100,
           98
          ],
          [
           100,
           213
          ],
          [
           0,
           219
          ],
          [
           100,
           322
          ],
          [
           98.27586206896552,
           270
          ],
          [
           99.92306508693645,
           302
          ],
          [
           8.333333333333334,
           360
          ],
          [
           100,
           361
          ],
          [
           99.02912621359224,
           313
          ],
          [
           94.89795918367346,
           309
          ],
          [
           99.85742291926572,
           63
          ],
          [
           99.61315280464216,
           231
          ],
          [
           10.526315789473683,
           222
          ],
          [
           96.03960396039604,
           261
          ],
          [
           97.82608695652172,
           110
          ],
          [
           94.05940594059406,
           381
          ],
          [
           2.687140115163148,
           164
          ],
          [
           0.6153846153846154,
           345
          ],
          [
           100,
           276
          ],
          [
           2.3769100169779285,
           145
          ],
          [
           91.48936170212764,
           102
          ],
          [
           100,
           267
          ],
          [
           5.095541401273885,
           155
          ],
          [
           92.45283018867924,
           119
          ],
          [
           90.36144578313252,
           283
          ],
          [
           99.05660377358492,
           238
          ],
          [
           3.902439024390244,
           151
          ],
          [
           100,
           117
          ],
          [
           100,
           50
          ],
          [
           2.25140712945591,
           149
          ],
          [
           98.83381924198252,
           272
          ],
          [
           95.91836734693878,
           312
          ],
          [
           100,
           301
          ],
          [
           99.76119402985074,
           65
          ],
          [
           93.33333333333331,
           170
          ],
          [
           100,
           171
          ],
          [
           100,
           46
          ],
          [
           8.615384615384615,
           150
          ],
          [
           99.53051643192488,
           379
          ],
          [
           92.45283018867924,
           118
          ],
          [
           96.03960396039604,
           310
          ],
          [
           98.94736842105264,
           319
          ],
          [
           99.51980792316928,
           249
          ],
          [
           99.6661101836394,
           223
          ],
          [
           94.9367088607595,
           336
          ],
          [
           99.86033519553072,
           22
          ],
          [
           99.88372093023256,
           248
          ],
          [
           99.86684420772303,
           289
          ],
          [
           91.83673469387756,
           120
          ],
          [
           0,
           359
          ],
          [
           95.78947368421052,
           308
          ],
          [
           98.50746268656717,
           376
          ],
          [
           95.83333333333331,
           317
          ],
          [
           100,
           14
          ],
          [
           100,
           194
          ],
          [
           2.8112449799196786,
           168
          ],
          [
           99.7372569626905,
           87
          ],
          [
           98,
           265
          ],
          [
           100,
           56
          ],
          [
           95.78947368421052,
           307
          ],
          [
           99.5127892813642,
           24
          ],
          [
           1.8867924528301887,
           148
          ],
          [
           23.07692307692308,
           175
          ],
          [
           99.67213114754098,
           226
          ],
          [
           99.95455922447744,
           58
          ],
          [
           6.956521739130435,
           347
          ],
          [
           97.79005524861878,
           325
          ],
          [
           99.51040391676868,
           246
          ],
          [
           0,
           212
          ],
          [
           99.91773609740046,
           290
          ],
          [
           99.8619261304798,
           61
          ],
          [
           99.8931623931624,
           64
          ],
          [
           4.23572744014733,
           159
          ],
          [
           94.73684210526316,
           128
          ],
          [
           99.6832101372756,
           232
          ],
          [
           1.8975332068311197,
           146
          ],
          [
           100,
           34
          ],
          [
           100,
           126
          ],
          [
           100,
           197
          ],
          [
           99.5475113122172,
           244
          ],
          [
           90.69767441860463,
           108
          ],
          [
           100,
           271
          ],
          [
           100,
           91
          ],
          [
           100,
           12
          ],
          [
           99.88682661837936,
           49
          ],
          [
           100,
           40
          ],
          [
           98.46153846153848,
           256
          ],
          [
           100,
           326
          ],
          [
           92.15686274509804,
           335
          ],
          [
           100,
           129
          ],
          [
           99.88556715777428,
           303
          ],
          [
           99.70414201183432,
           281
          ],
          [
           95.45454545454544,
           306
          ],
          [
           98,
           337
          ],
          [
           100,
           114
          ],
          [
           100,
           52
          ],
          [
           6.25,
           199
          ],
          [
           100,
           292
          ],
          [
           91.11111111111111,
           112
          ],
          [
           94.44444444444444,
           387
          ],
          [
           100,
           320
          ]
         ],
         "hovertemplate": "<b>%{hovertext}</b><br />%tcp_protocol: %{customdata[0]}<br />Contribution: %{y:.4f}<extra></extra>",
         "hovertext": [
          "Id: 59",
          "Id: 137",
          "Id: 323",
          "Id: 198",
          "Id: 125",
          "Id: 286",
          "Id: 158",
          "Id: 240",
          "Id: 351",
          "Id: 1",
          "Id: 300",
          "Id: 296",
          "Id: 348",
          "Id: 216",
          "Id: 98",
          "Id: 213",
          "Id: 219",
          "Id: 322",
          "Id: 270",
          "Id: 302",
          "Id: 360",
          "Id: 361",
          "Id: 313",
          "Id: 309",
          "Id: 63",
          "Id: 231",
          "Id: 222",
          "Id: 261",
          "Id: 110",
          "Id: 381",
          "Id: 164",
          "Id: 345",
          "Id: 276",
          "Id: 145",
          "Id: 102",
          "Id: 267",
          "Id: 155",
          "Id: 119",
          "Id: 283",
          "Id: 238",
          "Id: 151",
          "Id: 117",
          "Id: 50",
          "Id: 149",
          "Id: 272",
          "Id: 312",
          "Id: 301",
          "Id: 65",
          "Id: 170",
          "Id: 171",
          "Id: 46",
          "Id: 150",
          "Id: 379",
          "Id: 118",
          "Id: 310",
          "Id: 319",
          "Id: 249",
          "Id: 223",
          "Id: 336",
          "Id: 22",
          "Id: 248",
          "Id: 289",
          "Id: 120",
          "Id: 359",
          "Id: 308",
          "Id: 376",
          "Id: 317",
          "Id: 14",
          "Id: 194",
          "Id: 168",
          "Id: 87",
          "Id: 265",
          "Id: 56",
          "Id: 307",
          "Id: 24",
          "Id: 148",
          "Id: 175",
          "Id: 226",
          "Id: 58",
          "Id: 347",
          "Id: 325",
          "Id: 246",
          "Id: 212",
          "Id: 290",
          "Id: 61",
          "Id: 64",
          "Id: 159",
          "Id: 128",
          "Id: 232",
          "Id: 146",
          "Id: 34",
          "Id: 126",
          "Id: 197",
          "Id: 244",
          "Id: 108",
          "Id: 271",
          "Id: 91",
          "Id: 12",
          "Id: 49",
          "Id: 40",
          "Id: 256",
          "Id: 326",
          "Id: 335",
          "Id: 129",
          "Id: 303",
          "Id: 281",
          "Id: 306",
          "Id: 337",
          "Id: 114",
          "Id: 52",
          "Id: 199",
          "Id: 292",
          "Id: 112",
          "Id: 387",
          "Id: 320"
         ],
         "marker": {
          "color": [
           0.000013207469629691185,
           0.000008441520982271612,
           0.000012461799070871256,
           0.9996683095211694,
           0.0009252637309588829,
           0.00001335204810774487,
           0.999761010195765,
           0.000009676725001636708,
           0.15410638726990739,
           0.000009620329756404789,
           0.000008946777398376091,
           0.000009329878394534298,
           0.9994649836014188,
           0.9997081546007957,
           0.000011902903459251993,
           0.9985175644474461,
           0.9996559951595438,
           0.000012452361787567963,
           0.000010346540622933033,
           0.000008947651952933973,
           0.9942306135270517,
           0.9979700806963131,
           0.000015941455537098208,
           0.000014653861667369453,
           0.000028202181154273245,
           0.000022486565678473713,
           0.9995195108487891,
           0.00000970845363386115,
           0.000007937215204758098,
           0.000009178414980612276,
           0.9998006655007904,
           0.9995465795356402,
           0.000014396597253628296,
           0.9996812045064123,
           0.000009848048615410915,
           0.000009156904539908617,
           0.9995438148081827,
           0.000010477264560759444,
           0.00003267002771621698,
           0.00001245498032804175,
           0.999616440116695,
           0.000007953818223075685,
           0.000007515001419140109,
           0.9997247089338166,
           0.000014400464691885382,
           0.000015993404990001374,
           0.000013767814069505383,
           0.000008940656573044194,
           0.0011795296181474715,
           0.00002625742324475058,
           0.000009342307540534832,
           0.9921943070645515,
           0.000016094373525940652,
           0.000016187895528268063,
           0.0000159417361260889,
           0.000017144718789133378,
           0.000021177879227159703,
           0.00002298662040423926,
           0.00001590059582492908,
           0.000035740466505011304,
           0.000016896014783436064,
           0.000008947194927944421,
           0.000009864009570247332,
           0.9992323552987274,
           0.000018228665340538797,
           0.00000913801311314297,
           0.000015937677259464774,
           0.000008968429922453774,
           0.0029799572488461335,
           0.07947453457044143,
           0.000010134359694882186,
           0.000016107515658087953,
           0.000009330309298874851,
           0.000015937619128680405,
           0.00003574646245187484,
           0.9997070683217179,
           0.9986224727861059,
           0.000025035976171416863,
           0.000008947041231620714,
           0.9994940561158806,
           0.000009227923340698007,
           0.000019992973632141277,
           0.7371507111521768,
           0.000013337612036567871,
           0.00003572107789930652,
           0.000008949067184893989,
           0.9972615066984517,
           0.0009252441515001904,
           0.00002288599414304361,
           0.9996485329544198,
           0.000009620292114975112,
           0.0015309821317373708,
           0.002368062101552826,
           0.000016754692000766418,
           0.000012157381743050716,
           0.000014396587699982894,
           0.000011890895615366552,
           0.000007525619885405331,
           0.000016319058643143487,
           0.08804845329255363,
           0.000008955932373168523,
           0.000009226521180429688,
           0.00002225753259809801,
           0.0009252441515001894,
           0.000028202218732092746,
           0.000009227411407132774,
           0.00001768521897209898,
           0.00000923570096346723,
           0.00000845255845841481,
           0.000009619890966106462,
           0.11438228756622351,
           0.00000933030602953369,
           0.000009750129171114404,
           0.000010352161169992339,
           0.000009713863195142838
          ],
          "coloraxis": "coloraxis",
          "line": {
           "color": "white",
           "width": 0.8
          },
          "opacity": 0.8,
          "size": 10
         },
         "mode": "markers",
         "type": "scatter",
         "x": [
          99.6474217717056,
          89.1891891891892,
          100,
          0,
          100,
          99.8981462619678,
          1.1857707509881423,
          99.1150442477876,
          2.380952380952381,
          100,
          99.89163415691374,
          100,
          5.813953488372093,
          0.3766478342749529,
          100,
          100,
          0,
          100,
          98.27586206896552,
          99.92306508693645,
          8.333333333333334,
          100,
          99.02912621359224,
          94.89795918367346,
          99.85742291926572,
          99.61315280464216,
          10.526315789473683,
          96.03960396039604,
          97.82608695652172,
          94.05940594059406,
          2.687140115163148,
          0.6153846153846154,
          100,
          2.3769100169779285,
          91.48936170212764,
          100,
          5.095541401273885,
          92.45283018867924,
          90.36144578313252,
          99.05660377358492,
          3.902439024390244,
          100,
          100,
          2.25140712945591,
          98.83381924198252,
          95.91836734693878,
          100,
          99.76119402985074,
          93.33333333333331,
          100,
          100,
          8.615384615384615,
          99.53051643192488,
          92.45283018867924,
          96.03960396039604,
          98.94736842105264,
          99.51980792316928,
          99.6661101836394,
          94.9367088607595,
          99.86033519553072,
          99.88372093023256,
          99.86684420772303,
          91.83673469387756,
          0,
          95.78947368421052,
          98.50746268656717,
          95.83333333333331,
          100,
          100,
          2.8112449799196786,
          99.7372569626905,
          98,
          100,
          95.78947368421052,
          99.5127892813642,
          1.8867924528301887,
          23.07692307692308,
          99.67213114754098,
          99.95455922447744,
          6.956521739130435,
          97.79005524861878,
          99.51040391676868,
          0,
          99.91773609740046,
          99.8619261304798,
          99.8931623931624,
          4.23572744014733,
          94.73684210526316,
          99.6832101372756,
          1.8975332068311197,
          100,
          100,
          100,
          99.5475113122172,
          90.69767441860463,
          100,
          100,
          100,
          99.88682661837936,
          100,
          98.46153846153848,
          100,
          92.15686274509804,
          100,
          99.88556715777428,
          99.70414201183432,
          95.45454545454544,
          98,
          100,
          100,
          6.25,
          100,
          91.11111111111111,
          94.44444444444444,
          100
         ],
         "y": [
          -1.0239423312176514,
          -1.2377279737271842,
          -1.3483508557595325,
          5.071467306018306,
          -1.2495136719737616,
          -1.0315987982112778,
          3.6080294841093683,
          -1.3125481998100423,
          5.0759816200271235,
          -1.362213666015055,
          -1.0472941860430105,
          -1.225432354544302,
          2.453807983445859,
          4.164962268868438,
          -1.341648648583437,
          -0.8540619167596774,
          5.105418520038707,
          -1.3483513058399097,
          -1.2744838545898611,
          -1.0472966483569923,
          1.603670839930376,
          -0.8540624400024887,
          -1.4041896555370401,
          -1.2294097826381372,
          -1.0312800001971798,
          -1.3518113434531203,
          1.9222932195100788,
          -1.349222770610452,
          -1.3582245044578174,
          -1.3405516027140025,
          3.5954295206680693,
          4.153749733331547,
          -1.32748934758322,
          3.59063022772123,
          -1.2136948225733752,
          -1.3528330370984092,
          1.9854434866901767,
          -1.2064219950669521,
          -1.206483125122349,
          -1.295316645923652,
          2.4247004648116195,
          -1.4110920264729236,
          -1.2254901193382934,
          4.155433156001737,
          -1.274641568220322,
          -1.4129705436926967,
          -1.0376241800449082,
          -1.0656315827075027,
          -1.0472574259255572,
          -1.2185761470898238,
          -1.2254102706189511,
          1.9093818993943006,
          -1.2746137907628685,
          -1.1552706974108273,
          -1.4131181052941049,
          -1.3950155367682815,
          -1.3470355170742756,
          -1.263427644439693,
          -1.4133772635963102,
          -1.0315130558614871,
          -1.4450277989067075,
          -1.0870343612966331,
          -1.213616629004403,
          4.731179301582864,
          -1.3965130137856336,
          -1.3469913349374587,
          -1.4131650610025692,
          -1.0472136582753298,
          -1.0311960615386082,
          4.903312786588716,
          -1.0015466463389948,
          -1.2745102506851511,
          -1.225432560193991,
          -1.4131650710371528,
          -1.0505616069891512,
          3.608540406734336,
          1.758932415405188,
          -1.2633705897258907,
          -1.0473080924805342,
          2.428706251733131,
          -1.3397714264808944,
          -1.3542986027907216,
          6.327404065336841,
          -1.0316190285087452,
          -1.03157387848242,
          -1.0472884251194854,
          1.9605735680089058,
          -1.2255645708669265,
          -1.1352709392840201,
          4.016641586957146,
          -1.3622136968788188,
          -1.2530478969578218,
          -1.2110035649068136,
          -1.3921362168400515,
          -1.1873900925770495,
          -1.3276730700691368,
          -1.3417052049723361,
          -1.04716080467844,
          -1.0311629617133382,
          -1.0442541570786261,
          -1.1307073644305994,
          -1.3929690746493957,
          -1.2590644933379334,
          -1.249689106559789,
          -1.031279488757595,
          -1.3308816589324572,
          -1.3894404038890107,
          -1.3397026156208915,
          -1.4038683513578762,
          -1.362213585426955,
          2.039878454263418,
          -1.2254323564822385,
          -1.213830374529714,
          -1.2835044465846006,
          -1.3929762249789381
         ]
        }
       ],
       "layout": {
        "coloraxis": {
         "colorbar": {
          "title": {
           "text": "Predicted Proba"
          }
         },
         "colorscale": [
          [
           0,
           "rgb(52, 55, 54)"
          ],
          [
           0.0000014371091063646936,
           "rgb(74, 99, 138)"
          ],
          [
           0.0000018156827989467725,
           "rgb(116, 153, 214)"
          ],
          [
           0.0000026623451661203613,
           "rgb(162, 188, 213)"
          ],
          [
           0.00000583247870544161,
           "rgb(212, 234, 242)"
          ],
          [
           0.000008480157687244125,
           "rgb(235, 216, 134)"
          ],
          [
           0.000014097655249343268,
           "rgb(255, 204, 83)"
          ],
          [
           0.000028236102467057038,
           "rgb(244, 192, 0)"
          ],
          [
           0.2707637443902593,
           "rgb(255, 166, 17)"
          ],
          [
           0.9997333725718844,
           "rgb(255, 123, 38)"
          ],
          [
           1,
           "rgb(255, 77, 7)"
          ]
         ]
        },
        "height": 600,
        "hovermode": "closest",
        "template": {
         "data": {
          "scatter": [
           {
            "type": "scatter"
           }
          ]
         }
        },
        "title": {
         "font": {
          "color": "rgb(50, 50, 50)",
          "family": "Arial",
          "size": 24
         },
         "text": "<b>%tcp_protocol</b> - Feature Contribution<br><sup>Response: <b>2</b></sup>",
         "x": 0.5,
         "xanchor": "center",
         "y": 0.9,
         "yanchor": "middle"
        },
        "width": 900,
        "xaxis": {
         "automargin": true,
         "title": {
          "font": {
           "color": "rgb(50, 50, 50)",
           "family": "Arial Black",
           "size": 16
          },
          "text": "%tcp_protocol"
         }
        },
        "yaxis": {
         "automargin": true,
         "title": {
          "font": {
           "color": "rgb(50, 50, 50)",
           "family": "Arial Black",
           "size": 16
          },
          "text": "Contribution"
         }
        }
       }
      }
     },
     "metadata": {},
     "output_type": "display_data"
    }
   ],
   "source": [
    "xpl.plot.contribution_plot(\"%tcp_protocol\")"
   ]
  },
  {
   "cell_type": "code",
   "execution_count": 9,
   "metadata": {},
   "outputs": [
    {
     "data": {
      "application/vnd.plotly.v1+json": {
       "config": {
        "plotlyServerURL": "https://plot.ly"
       },
       "data": [],
       "layout": {
        "barmode": "group",
        "height": 550,
        "hovermode": "closest",
        "margin": {
         "b": 70,
         "l": 150,
         "r": 20,
         "t": 80
        },
        "template": {
         "data": {
          "scatter": [
           {
            "type": "scatter"
           }
          ]
         }
        },
        "title": {
         "font": {
          "color": "rgb(50, 50, 50)",
          "family": "Arial",
          "size": 24
         },
         "text": "Local Explanation - <b>No Matching Entry</b>",
         "x": 0.5,
         "xanchor": "center",
         "y": 0.9,
         "yanchor": "middle"
        },
        "width": 900,
        "xaxis": {
         "title": {
          "font": {
           "color": "rgb(50, 50, 50)",
           "family": "Arial Black",
           "size": 16
          },
          "text": "Contribution"
         }
        },
        "yaxis": {
         "automargin": true,
         "dtick": 1,
         "title": {
          "font": {
           "color": "rgb(50, 50, 50)",
           "family": "Arial Black",
           "size": 16
          }
         },
         "type": "category"
        }
       }
      }
     },
     "metadata": {},
     "output_type": "display_data"
    }
   ],
   "source": [
    "xpl.plot.local_plot(index=10)"
   ]
  },
  {
   "cell_type": "code",
   "execution_count": 10,
   "metadata": {},
   "outputs": [
    {
     "name": "stderr",
     "output_type": "stream",
     "text": [
      "100%|██████████| 100/100 [00:00<00:00, 441.27it/s]\n",
      " 30%|███       | 3/10 [03:03<07:08, 61.22s/it]\n"
     ]
    }
   ],
   "source": [
    "from shapash.explainer.consistency import Consistency\n",
    "cns = Consistency()\n",
    "\n",
    "cns.compile(x=X_train, # Dataset for which we need explanations\n",
    "            model=clf, # Model to explain\n",
    "            #preprocessing=encoder, # Optional\n",
    "            )"
   ]
  },
  {
   "cell_type": "code",
   "execution_count": 11,
   "metadata": {},
   "outputs": [
    {
     "data": {
      "image/png": "[encoded data removed]",
      "text/plain": [
       "<Figure size 1000x600 with 1 Axes>"
      ]
     },
     "metadata": {},
     "output_type": "display_data"
    },
    {
     "data": {
      "image/png": "[encoded data removed]",
      "text/plain": [
       "<Figure size 1500x400 with 5 Axes>"
      ]
     },
     "metadata": {},
     "output_type": "display_data"
    }
   ],
   "source": [
    "cns.consistency_plot(max_features=21)"
   ]
  },
  {
   "cell_type": "code",
   "execution_count": 12,
   "metadata": {},
   "outputs": [
    {
     "data": {
      "image/png": "[encoded data removed]",
      "text/plain": [
       "<Figure size 1000x600 with 1 Axes>"
      ]
     },
     "metadata": {},
     "output_type": "display_data"
    },
    {
     "data": {
      "image/png": "[encoded data removed]",
      "text/plain": [
       "<Figure size 1500x400 with 5 Axes>"
      ]
     },
     "metadata": {},
     "output_type": "display_data"
    }
   ],
   "source": [
    "index = [1, 2, 3, 4, 5]\n",
    "cns.consistency_plot(selection=index, max_features=21)"
   ]
  },
  {
   "cell_type": "code",
   "execution_count": 13,
   "metadata": {},
   "outputs": [
    {
     "data": {
      "application/vnd.plotly.v1+json": {
       "config": {
        "plotlyServerURL": "https://plot.ly"
       },
       "data": [
        {
         "cumulative": {
          "enabled": true
         },
         "histnorm": "percent",
         "hovertemplate": "Top %{x:.0f} features explain at least 90%<br>of the model for %{y:.1f}% of the instances",
         "hovertext": "none",
         "marker": {
          "color": "rgba(255, 166, 17, 0.9)"
         },
         "name": "",
         "type": "histogram",
         "x": [
          9,
          11,
          5,
          12,
          12,
          9,
          13,
          10,
          6,
          7,
          9,
          8,
          11,
          8,
          5,
          3,
          12,
          5,
          7,
          9,
          3,
          3,
          3,
          9,
          8,
          10,
          6,
          10,
          11,
          9,
          12,
          13,
          8,
          12,
          10,
          7,
          12,
          10,
          7,
          6,
          10,
          11,
          9,
          15,
          9,
          3,
          5,
          9,
          11,
          11,
          8,
          10,
          7,
          10,
          3,
          3,
          10,
          6,
          8,
          8,
          3,
          9,
          10,
          6,
          3,
          10,
          3,
          9,
          13,
          6,
          10,
          8,
          8,
          3,
          8,
          10,
          5,
          6,
          9,
          10,
          7,
          10,
          6,
          9,
          8,
          9,
          11,
          7,
          6,
          12,
          7,
          3,
          7,
          3,
          10,
          8,
          7,
          9,
          9,
          5,
          8,
          7,
          3,
          12,
          8,
          8,
          3,
          7,
          12,
          7,
          14,
          8,
          10,
          7,
          7
         ],
         "xaxis": "x",
         "yaxis": "y"
        },
        {
         "cumulative": {
          "direction": "decreasing",
          "enabled": true
         },
         "histnorm": "percent",
         "hovertemplate": "Top 5 features explain at least %{x:.0f}%<br>of the model for %{y:.1f}% of the instances",
         "marker": {
          "color": "rgba(117, 152, 189, 0.9)"
         },
         "name": "",
         "type": "histogram",
         "x": [
          61.19251870722153,
          59.87629877325817,
          94.8261203956573,
          82.01155768772654,
          61.41084966922906,
          63.69331958542608,
          0,
          67.17610362932867,
          55.45404309539386,
          80.97261227880593,
          63.47211074144479,
          65.23900346794144,
          0,
          82.11229581300489,
          97.08459427313399,
          69.23179237762369,
          78.81208156259004,
          94.80986812060506,
          77.65551955707951,
          63.468442222720434,
          89.18961172036433,
          69.23992154575132,
          56.04685824816728,
          44.52568320415509,
          67.17556575278891,
          79.50648641832174,
          71.54596396453582,
          67.94143110872595,
          59.07593308298704,
          66.87994081642384,
          0,
          0,
          63.18963116166425,
          0,
          66.02543786162265,
          75.78033394423827,
          0,
          65.77336786941466,
          75.54927271715854,
          88.98352637412276,
          0,
          65.08716749560435,
          48.77877145851599,
          0,
          57.095542229991295,
          54.16506774899021,
          97.20765954187564,
          60.39410603428781,
          40.77987450284738,
          0,
          65.34068847818162,
          79.01061189370857,
          67.52880718506714,
          79.19508690948885,
          53.946428406032695,
          56.1143293348855,
          72.69242034909573,
          82.04420580269888,
          53.66935701331692,
          69.74822253284935,
          66.35927026447277,
          62.82917024396353,
          66.15292946811931,
          47.399244295127474,
          62.094773957321166,
          73.51152719799634,
          53.869297230960896,
          63.665202759502115,
          33.494518088513736,
          65.78208340665883,
          17.786468185560267,
          65.43137833230301,
          65.240413193363,
          53.865783700264245,
          70.45059062110445,
          0,
          91.66065099257654,
          82.03625481912434,
          63.466116067766706,
          0,
          71.1073251189025,
          67.77821808824021,
          57.77212505758644,
          63.55965953250018,
          69.71177222359847,
          63.477771090594715,
          0,
          60.438303754662904,
          83.91407839250431,
          0,
          80.97252982947624,
          93.57588780268176,
          36.47393570395692,
          60.40630488347749,
          69.662705729165,
          62.93792744552835,
          50.60634795908516,
          49.38062633109021,
          63.41889125023328,
          92.92012989574445,
          58.181471853146505,
          76.97365950808033,
          68.1337567073272,
          61.41857291588124,
          67.17757283867823,
          73.4740866611304,
          69.16482848763725,
          71.13647638164773,
          64.7462962244302,
          80.97174694294473,
          22.50049208791447,
          65.23986869772243,
          65.98090506112646,
          71.1148749819655,
          76.86060899667532
         ],
         "xaxis": "x2",
         "yaxis": "y2"
        }
       ],
       "layout": {
        "annotations": [
         {
          "font": {
           "color": "rgb(50, 50, 50)",
           "family": "Arial",
           "size": 14
          },
          "showarrow": false,
          "text": "Number of features required<br>to explain 90% of the model's output",
          "x": 0.2,
          "xanchor": "center",
          "xref": "paper",
          "y": 1,
          "yanchor": "bottom",
          "yref": "paper"
         },
         {
          "font": {
           "color": "rgb(50, 50, 50)",
           "family": "Arial",
           "size": 14
          },
          "showarrow": false,
          "text": "Percentage of the model output<br>explained by the 5 most important<br>features per instance",
          "x": 0.8,
          "xanchor": "center",
          "xref": "paper",
          "y": 1,
          "yanchor": "bottom",
          "yref": "paper"
         }
        ],
        "hovermode": "closest",
        "margin": {
         "t": 150
        },
        "showlegend": false,
        "template": {
         "data": {
          "scatter": [
           {
            "type": "scatter"
           }
          ]
         }
        },
        "title": {
         "font": {
          "color": "rgb(50, 50, 50)",
          "family": "Arial",
          "size": 24
         },
         "pad": {
          "b": 50
         },
         "text": "Compacity of explanations:<span style='font-size: 16px;'><br />How many variables are enough to produce accurate explanations?</span>",
         "x": 0.5,
         "xanchor": "center",
         "y": 0.8,
         "yanchor": "bottom"
        },
        "xaxis": {
         "anchor": "y",
         "domain": [
          0,
          0.4
         ],
         "title": {
          "font": {
           "color": "rgb(50, 50, 50)",
           "family": "Arial Black",
           "size": 16
          },
          "text": "Number of selected features"
         }
        },
        "xaxis2": {
         "anchor": "y2",
         "domain": [
          0.6000000000000001,
          1
         ],
         "title": {
          "font": {
           "color": "rgb(50, 50, 50)",
           "family": "Arial Black",
           "size": 16
          },
          "text": "Percentage of model output<br>explained (%)"
         }
        },
        "yaxis": {
         "anchor": "x",
         "domain": [
          0,
          1
         ],
         "title": {
          "font": {
           "color": "rgb(50, 50, 50)",
           "family": "Arial Black",
           "size": 16
          },
          "text": "Cumulative distribution over<br>dataset's instances (%)"
         }
        },
        "yaxis2": {
         "anchor": "x2",
         "domain": [
          0,
          1
         ],
         "title": {
          "font": {
           "color": "rgb(50, 50, 50)",
           "family": "Arial Black",
           "size": 16
          },
          "text": "Cumulative distribution over<br>dataset's instances (%)"
         }
        }
       }
      }
     },
     "metadata": {},
     "output_type": "display_data"
    }
   ],
   "source": [
    "# xpl.plot.compacity_plot(selection=index, approx=.85, nb_features=3)\n",
    "xpl.plot.compacity_plot()"
   ]
  },
  {
   "cell_type": "code",
   "execution_count": 14,
   "metadata": {},
   "outputs": [
    {
     "data": {
      "application/vnd.plotly.v1+json": {
       "config": {
        "plotlyServerURL": "https://plot.ly"
       },
       "data": [
        {
         "hovertemplate": "%{hovertext}<extra></extra>",
         "hovertext": [
          "<b>Feature: %dl_volume</b><br />Importance: 0.00939909131358997<br />Variability: 0.18130880538724892",
          "<b>Feature: %tcp_protocol</b><br />Importance: 0.2416063292346793<br />Variability: 0.11994505953468278",
          "<b>Feature: %udp_protocol</b><br />Importance: 0.015069838357398127<br />Variability: 0.13208490159573183",
          "<b>Feature: %ul_volume</b><br />Importance: 0.013847884539231725<br />Variability: 0.592637691913",
          "<b>Feature: avg_dl_volume</b><br />Importance: 0.0487503786254441<br />Variability: 0.3411225371157414",
          "<b>Feature: avg_ul_volume</b><br />Importance: 0.25915679392380764<br />Variability: 0.1290606829873321",
          "<b>Feature: dl_data_volume</b><br />Importance: 0.00798426860018547<br />Variability: 0.4305604521252976",
          "<b>Feature: dl_packet</b><br />Importance: 0.005896776118200444<br />Variability: 0.4498148175191367",
          "<b>Feature: kB/s</b><br />Importance: 0.002895188542019483<br />Variability: 0.8418494343046908",
          "<b>Feature: max_dl_volume</b><br />Importance: 0.03070800505657479<br />Variability: 0.18032380819945812",
          "<b>Feature: max_ul_volume</b><br />Importance: 0.007986023168982514<br />Variability: 0.25878505846270905",
          "<b>Feature: min_dl_volume</b><br />Importance: 0.012422102579702625<br />Variability: 0.35819572494251234",
          "<b>Feature: min_ul_volume</b><br />Importance: 0.002129233744137999<br />Variability: 0.379982599394447",
          "<b>Feature: nb_downlink_packet</b><br />Importance: 0.0028796048028591056<br />Variability: 0.5885282827913803",
          "<b>Feature: nb_packet/s</b><br />Importance: 1.5982949349188883e-06<br />Variability: 0.8971636104893811",
          "<b>Feature: nb_uplink_packet</b><br />Importance: 0.0038726000331021195<br />Variability: 0.808168181942712",
          "<b>Feature: session_time</b><br />Importance: 0.0228451070216818<br />Variability: 0.876803985639012",
          "<b>Feature: std_dl_volume</b><br />Importance: 0.29460936669922133<br />Variability: 0.11524083078579556",
          "<b>Feature: std_ul_volume</b><br />Importance: 0.01359125075446915<br />Variability: 0.5203561085347085",
          "<b>Feature: ul_data_volume</b><br />Importance: 0.0012414130723385464<br />Variability: 0.7396812302866231",
          "<b>Feature: ul_packet</b><br />Importance: 0.003107145517439257<br />Variability: 0.4525451365946841"
         ],
         "marker": {
          "color": [
           0.00939909131358997,
           0.2416063292346793,
           0.015069838357398127,
           0.013847884539231725,
           0.0487503786254441,
           0.25915679392380764,
           0.00798426860018547,
           0.005896776118200444,
           0.002895188542019483,
           0.03070800505657479,
           0.007986023168982514,
           0.012422102579702625,
           0.002129233744137999,
           0.0028796048028591056,
           0.0000015982949349188883,
           0.0038726000331021195,
           0.0228451070216818,
           0.29460936669922133,
           0.01359125075446915,
           0.0012414130723385464,
           0.003107145517439257
          ],
          "colorscale": [
           [
            0,
            "rgb(52, 55, 54)"
           ],
           [
            0.007221925819292564,
            "rgb(74, 99, 138)"
           ],
           [
            0.00982183960306752,
            "rgb(116, 153, 214)"
           ],
           [
            0.013139510064972479,
            "rgb(162, 188, 213)"
           ],
           [
            0.027095926045969148,
            "rgb(212, 234, 242)"
           ],
           [
            0.03189832050103646,
            "rgb(235, 216, 134)"
           ],
           [
            0.04612795016622008,
            "rgb(255, 204, 83)"
           ],
           [
            0.051146784567422734,
            "rgb(244, 192, 0)"
           ],
           [
            0.10422809597981092,
            "rgb(255, 166, 17)"
           ],
           [
            0.8200894777770874,
            "rgb(255, 123, 38)"
           ],
           [
            1,
            "rgb(255, 77, 7)"
           ]
          ],
          "line": {
           "color": "white",
           "width": 0.8
          },
          "opacity": 0.8,
          "size": 10
         },
         "mode": "markers",
         "showlegend": false,
         "type": "scatter",
         "x": [
          0.18130880538724892,
          0.11994505953468278,
          0.13208490159573183,
          0.592637691913,
          0.3411225371157414,
          0.1290606829873321,
          0.4305604521252976,
          0.4498148175191367,
          0.8418494343046908,
          0.18032380819945812,
          0.25878505846270905,
          0.35819572494251234,
          0.379982599394447,
          0.5885282827913803,
          0.8971636104893811,
          0.808168181942712,
          0.876803985639012,
          0.11524083078579556,
          0.5203561085347085,
          0.7396812302866231,
          0.4525451365946841
         ],
         "y": [
          0.00939909131358997,
          0.2416063292346793,
          0.015069838357398127,
          0.013847884539231725,
          0.0487503786254441,
          0.25915679392380764,
          0.00798426860018547,
          0.005896776118200444,
          0.002895188542019483,
          0.03070800505657479,
          0.007986023168982514,
          0.012422102579702625,
          0.002129233744137999,
          0.0028796048028591056,
          0.0000015982949349188883,
          0.0038726000331021195,
          0.0228451070216818,
          0.29460936669922133,
          0.01359125075446915,
          0.0012414130723385464,
          0.003107145517439257
         ]
        },
        {
         "hoverinfo": "none",
         "line": {
          "color": "rgba(117, 152, 189, 0.9)",
          "dash": "dot"
         },
         "mode": "lines",
         "name": "<-- Stable",
         "type": "scatter",
         "x": [
          0.15,
          0.15,
          0.15,
          0.15,
          0.15,
          0.15,
          0.15,
          0.15,
          0.15,
          0.15,
          0.15,
          0.15,
          0.15,
          0.15,
          0.15,
          0.15,
          0.15,
          0.15,
          0.15,
          0.15,
          0.15
         ],
         "y": [
          0,
          0.29460936669922133
         ]
        },
        {
         "hoverinfo": "none",
         "line": {
          "color": "rgba(255, 166, 17, 0.9)",
          "dash": "dot"
         },
         "mode": "lines",
         "name": "--> Unstable",
         "type": "scatter",
         "x": [
          0.3,
          0.3,
          0.3,
          0.3,
          0.3,
          0.3,
          0.3,
          0.3,
          0.3,
          0.3,
          0.3,
          0.3,
          0.3,
          0.3,
          0.3,
          0.3,
          0.3,
          0.3,
          0.3,
          0.3,
          0.3
         ],
         "y": [
          0,
          0.29460936669922133
         ]
        }
       ],
       "layout": {
        "coloraxis": {
         "showscale": false
        },
        "hovermode": "closest",
        "template": {
         "data": {
          "scatter": [
           {
            "type": "scatter"
           }
          ]
         }
        },
        "title": {
         "font": {
          "color": "rgb(50, 50, 50)",
          "family": "Arial",
          "size": 24
         },
         "pad": {
          "b": 50
         },
         "text": "Importance & Local Stability of explanations:<span style='font-size: 16px;'><br />How similar are explanations for closeby neighbours?</span>",
         "x": 0.5,
         "xanchor": "center",
         "yanchor": "bottom"
        },
        "xaxis": {
         "automargin": true,
         "range": [
          0.08524083078579556,
          0.9271636104893811
         ],
         "title": {
          "font": {
           "color": "rgb(50, 50, 50)",
           "family": "Arial Black",
           "size": 16
          },
          "text": "Variability of the Normalized Local Contribution Values<span style='font-size: 12px;'><br />(standard deviation / mean)</span>"
         }
        },
        "yaxis": {
         "automargin": true,
         "title": {
          "font": {
           "color": "rgb(50, 50, 50)",
           "family": "Arial Black",
           "size": 16
          },
          "text": "Importance<span style='font-size: 12px;'><br />(Average contributions)</span>"
         }
        }
       }
      }
     },
     "metadata": {},
     "output_type": "display_data"
    }
   ],
   "source": [
    "xpl.plot.stability_plot()"
   ]
  },
  {
   "cell_type": "code",
   "execution_count": 25,
   "metadata": {},
   "outputs": [
    {
     "data": {
      "application/vnd.plotly.v1+json": {
       "config": {
        "plotlyServerURL": "https://plot.ly"
       },
       "data": [
        {
         "marker": {
          "color": "rgb(162, 188, 213)"
         },
         "name": "max_dl_volume",
         "showlegend": false,
         "type": "box",
         "x": [
          0.17441364316468896,
          0.20883275291386352
         ]
        },
        {
         "marker": {
          "color": "rgb(162, 188, 213)"
         },
         "name": "avg_dl_volume",
         "showlegend": false,
         "type": "box",
         "x": [
          1.0403743626946835,
          0.9644832226270998
         ]
        },
        {
         "marker": {
          "color": "rgb(244, 192, 0)"
         },
         "name": "%tcp_protocol",
         "showlegend": false,
         "type": "box",
         "x": [
          0.2089954426026338,
          0.21274588921559878
         ]
        },
        {
         "marker": {
          "color": "rgb(255, 166, 17)"
         },
         "name": "avg_ul_volume",
         "showlegend": false,
         "type": "box",
         "x": [
          0.15039078060464664,
          0.15148596975174633
         ]
        },
        {
         "marker": {
          "color": "rgb(255, 77, 7)"
         },
         "name": "std_dl_volume",
         "showlegend": false,
         "type": "box",
         "x": [
          0.8664344361591372,
          0.8656465553919838
         ]
        },
        {
         "hoverinfo": "none",
         "marker": {
          "color": [
           0.031754916829833696,
           0.3095559362732442
          ],
          "colorbar": {
           "len": 300,
           "lenmode": "pixels",
           "thickness": 20,
           "title": {
            "text": "Importance<br />(Average contributions)"
           },
           "y": 1,
           "yanchor": "top",
           "ypad": 60
          },
          "colorscale": [
           [
            0,
            "rgb(52, 55, 54)"
           ],
           [
            0.026249689618813403,
            "rgb(74, 99, 138)"
           ],
           [
            0.052499379237626806,
            "rgb(116, 153, 214)"
           ],
           [
            0.21122546039129592,
            "rgb(162, 188, 213)"
           ],
           [
            0.5024279330798204,
            "rgb(212, 234, 242)"
           ],
           [
            0.7936304057683449,
            "rgb(235, 216, 134)"
           ],
           [
            0.8115358961075013,
            "rgb(255, 204, 83)"
           ],
           [
            0.829441386446658,
            "rgb(244, 192, 0)"
           ],
           [
            0.870715305292989,
            "rgb(255, 166, 17)"
           ],
           [
            0.9353576526464944,
            "rgb(255, 123, 38)"
           ],
           [
            1,
            "rgb(255, 77, 7)"
           ]
          ],
          "showscale": true,
          "size": 1
         },
         "mode": "markers",
         "showlegend": false,
         "type": "scatter",
         "x": [
          null
         ],
         "y": [
          null
         ]
        },
        {
         "hoverinfo": "none",
         "line": {
          "color": "rgba(117, 152, 189, 0.9)",
          "dash": "dot"
         },
         "mode": "lines",
         "name": "<-- Stable",
         "type": "scatter",
         "x": [
          0.15,
          0.15,
          0.15,
          0.15,
          0.15
         ],
         "y": [
          "%tcp_protocol",
          "avg_dl_volume",
          "avg_ul_volume",
          "max_dl_volume",
          "std_dl_volume"
         ]
        },
        {
         "hoverinfo": "none",
         "line": {
          "color": "rgba(255, 166, 17, 0.9)",
          "dash": "dot"
         },
         "mode": "lines",
         "name": "--> Unstable",
         "type": "scatter",
         "x": [
          0.3,
          0.3,
          0.3,
          0.3,
          0.3
         ],
         "y": [
          "%tcp_protocol",
          "avg_dl_volume",
          "avg_ul_volume",
          "max_dl_volume",
          "std_dl_volume"
         ]
        }
       ],
       "layout": {
        "coloraxis": {
         "showscale": false
        },
        "height": 500,
        "hovermode": "closest",
        "template": {
         "data": {
          "scatter": [
           {
            "type": "scatter"
           }
          ]
         }
        },
        "title": {
         "font": {
          "color": "rgb(50, 50, 50)",
          "family": "Arial",
          "size": 24
         },
         "pad": {
          "b": 50
         },
         "text": "Importance & Local Stability of explanations:<span style='font-size: 16px;'><br />How similar are explanations for closeby neighbours?</span>",
         "x": 0.5,
         "xanchor": "center",
         "yanchor": "bottom"
        },
        "xaxis": {
         "automargin": true,
         "title": {
          "font": {
           "color": "rgb(50, 50, 50)",
           "family": "Arial Black",
           "size": 16
          },
          "text": "Normalized local contribution value variability"
         }
        },
        "yaxis": {
         "automargin": true,
         "title": {
          "font": {
           "color": "rgb(50, 50, 50)",
           "family": "Arial Black",
           "size": 16
          },
          "text": ""
         }
        }
       }
      }
     },
     "metadata": {},
     "output_type": "display_data"
    }
   ],
   "source": [
    "xpl.plot.stability_plot(selection=[1,24], max_features=5, distribution=\"boxplot\")"
   ]
  },
  {
   "cell_type": "code",
   "execution_count": null,
   "metadata": {},
   "outputs": [
    {
     "data": {
      "application/vnd.plotly.v1+json": {
       "config": {
        "plotlyServerURL": "https://plot.ly"
       },
       "data": [
        {
         "marker": {
          "color": "rgba(117, 152, 189, 0.9)"
         },
         "name": "10th closest neighbor",
         "opacity": 0.2,
         "orientation": "h",
         "type": "bar",
         "x": [
          -0.010723086959941501,
          0.011020933697665988,
          -0.011202014386934392,
          0.012348811149018373,
          -0.012360250144135639,
          0.016900610715829417,
          -0.14877337079067582,
          -0.18476279424924613,
          -0.20606932289485505,
          -0.34717968307464353
         ],
         "y": [
          "nb_uplink_packet",
          "std_ul_volume",
          "avg_dl_volume",
          "dl_data_volume",
          "%udp_protocol",
          "ul_data_volume",
          "max_dl_volume",
          "std_dl_volume",
          "avg_ul_volume",
          "%tcp_protocol"
         ]
        },
        {
         "marker": {
          "color": "rgba(117, 152, 189, 0.9)"
         },
         "name": "9th closest neighbor",
         "opacity": 0.28,
         "orientation": "h",
         "type": "bar",
         "x": [
          -0.010646857635415957,
          0.011257419776704858,
          -0.011411521454403956,
          0.012550121465513387,
          -0.012608529212982746,
          -0.022091604076723916,
          -0.1517492711186961,
          -0.20066210847781246,
          -0.2068672158861165,
          -0.3181285963040638
         ],
         "y": [
          "nb_uplink_packet",
          "std_ul_volume",
          "avg_dl_volume",
          "dl_data_volume",
          "%udp_protocol",
          "ul_data_volume",
          "max_dl_volume",
          "std_dl_volume",
          "avg_ul_volume",
          "%tcp_protocol"
         ]
        },
        {
         "marker": {
          "color": "rgba(117, 152, 189, 0.9)"
         },
         "name": "8th closest neighbor",
         "opacity": 0.36,
         "orientation": "h",
         "type": "bar",
         "x": [
          -0.010638676449844595,
          0.011850145243403106,
          -0.011354691206077216,
          0.023201684896583506,
          -0.012599178263967068,
          -0.022125025985997488,
          -0.15086579902679695,
          -0.1863071368111012,
          -0.2068410328377909,
          -0.31561230960628717
         ],
         "y": [
          "nb_uplink_packet",
          "std_ul_volume",
          "avg_dl_volume",
          "dl_data_volume",
          "%udp_protocol",
          "ul_data_volume",
          "max_dl_volume",
          "std_dl_volume",
          "avg_ul_volume",
          "%tcp_protocol"
         ]
        },
        {
         "marker": {
          "color": "rgba(117, 152, 189, 0.9)"
         },
         "name": "7th closest neighbor",
         "opacity": 0.44000000000000006,
         "orientation": "h",
         "type": "bar",
         "x": [
          -0.010604094653740438,
          0.010882696910785866,
          -0.011115332290086169,
          0.01218118995782999,
          -0.01221895060285485,
          0.01670349764788323,
          -0.1538699789183949,
          -0.18269113277347196,
          -0.20426651992536787,
          -0.3470500797247711
         ],
         "y": [
          "nb_uplink_packet",
          "std_ul_volume",
          "avg_dl_volume",
          "dl_data_volume",
          "%udp_protocol",
          "ul_data_volume",
          "max_dl_volume",
          "std_dl_volume",
          "avg_ul_volume",
          "%tcp_protocol"
         ]
        },
        {
         "marker": {
          "color": "rgba(117, 152, 189, 0.9)"
         },
         "name": "6th closest neighbor",
         "opacity": 0.52,
         "orientation": "h",
         "type": "bar",
         "x": [
          -0.010882399162880616,
          0.011146040411345662,
          0.04565378058552233,
          0.02337487941541908,
          -0.012547773329423828,
          0.01711705532446811,
          -0.0969931111714162,
          -0.1875994091073574,
          -0.19644994290010628,
          -0.3522995343103441
         ],
         "y": [
          "nb_uplink_packet",
          "std_ul_volume",
          "avg_dl_volume",
          "dl_data_volume",
          "%udp_protocol",
          "ul_data_volume",
          "max_dl_volume",
          "std_dl_volume",
          "avg_ul_volume",
          "%tcp_protocol"
         ]
        },
        {
         "marker": {
          "color": "rgba(117, 152, 189, 0.9)"
         },
         "name": "5th closest neighbor",
         "opacity": 0.6000000000000001,
         "orientation": "h",
         "type": "bar",
         "x": [
          -0.011013695447399283,
          0.0112642321123729,
          -0.013299396825033,
          0.02325674284150803,
          -0.0127169689570896,
          0.017351376129168514,
          -0.10617443044214128,
          -0.19618770180821313,
          -0.2057435361990232,
          -0.361631389828561
         ],
         "y": [
          "nb_uplink_packet",
          "std_ul_volume",
          "avg_dl_volume",
          "dl_data_volume",
          "%udp_protocol",
          "ul_data_volume",
          "max_dl_volume",
          "std_dl_volume",
          "avg_ul_volume",
          "%tcp_protocol"
         ]
        },
        {
         "marker": {
          "color": "rgba(117, 152, 189, 0.9)"
         },
         "name": "4th closest neighbor",
         "opacity": 0.6800000000000002,
         "orientation": "h",
         "type": "bar",
         "x": [
          -0.010421825536102543,
          0.011075130851435666,
          -0.01112758715542006,
          0.012661092574966445,
          -0.012352447200617275,
          0.01682704380585348,
          -0.14788281551822596,
          -0.18437862529713797,
          -0.20274212828894123,
          -0.34981875901961174
         ],
         "y": [
          "nb_uplink_packet",
          "std_ul_volume",
          "avg_dl_volume",
          "dl_data_volume",
          "%udp_protocol",
          "ul_data_volume",
          "max_dl_volume",
          "std_dl_volume",
          "avg_ul_volume",
          "%tcp_protocol"
         ]
        },
        {
         "marker": {
          "color": "rgba(117, 152, 189, 0.9)"
         },
         "name": "3rd closest neighbor",
         "opacity": 0.76,
         "orientation": "h",
         "type": "bar",
         "x": [
          -0.010539584674011318,
          0.010823199432807821,
          0.035003102813632656,
          0.012134919801849189,
          -0.012150432193449875,
          0.01660752165008995,
          -0.14615633147661586,
          -0.18160134937432162,
          -0.19523891570079643,
          -0.3413431953653148
         ],
         "y": [
          "nb_uplink_packet",
          "std_ul_volume",
          "avg_dl_volume",
          "dl_data_volume",
          "%udp_protocol",
          "ul_data_volume",
          "max_dl_volume",
          "std_dl_volume",
          "avg_ul_volume",
          "%tcp_protocol"
         ]
        },
        {
         "marker": {
          "color": "rgba(117, 152, 189, 0.9)"
         },
         "name": "2nd closest neighbor",
         "opacity": 0.8400000000000001,
         "orientation": "h",
         "type": "bar",
         "x": [
          -0.010571773461876788,
          0.011245047980411175,
          -0.010899442134408669,
          0.009120889612060533,
          -0.01299835084323083,
          0.01660247546165081,
          -0.1425968956899397,
          -0.18154493511921868,
          -0.1973300701140701,
          -0.34372043013369313
         ],
         "y": [
          "nb_uplink_packet",
          "std_ul_volume",
          "avg_dl_volume",
          "dl_data_volume",
          "%udp_protocol",
          "ul_data_volume",
          "max_dl_volume",
          "std_dl_volume",
          "avg_ul_volume",
          "%tcp_protocol"
         ]
        },
        {
         "marker": {
          "color": "rgba(117, 152, 189, 0.9)"
         },
         "name": "closest neighbor",
         "opacity": 0.9199999999999999,
         "orientation": "h",
         "type": "bar",
         "x": [
          -0.010431456699663763,
          0.011066396854162523,
          -0.011140215512475028,
          0.012230322405717618,
          -0.012360365941513064,
          0.016840943591382242,
          -0.1480139247942664,
          -0.1845722351723029,
          -0.20291585399275366,
          -0.3502940177590902
         ],
         "y": [
          "nb_uplink_packet",
          "std_ul_volume",
          "avg_dl_volume",
          "dl_data_volume",
          "%udp_protocol",
          "ul_data_volume",
          "max_dl_volume",
          "std_dl_volume",
          "avg_ul_volume",
          "%tcp_protocol"
         ]
        },
        {
         "marker": {
          "color": "rgba(255, 166, 17, 0.9)"
         },
         "name": "instance",
         "opacity": 1,
         "orientation": "h",
         "type": "bar",
         "x": [
          -0.010698371564443566,
          0.010966042465820069,
          -0.011101429856649468,
          0.012306541056278224,
          -0.012319976495559406,
          0.016837915045828836,
          -0.1475003297952727,
          -0.1841933341979573,
          -0.2057139447683082,
          -0.3498124537412848
         ],
         "y": [
          "nb_uplink_packet",
          "std_ul_volume",
          "avg_dl_volume",
          "dl_data_volume",
          "%udp_protocol",
          "ul_data_volume",
          "max_dl_volume",
          "std_dl_volume",
          "avg_ul_volume",
          "%tcp_protocol"
         ]
        }
       ],
       "layout": {
        "barmode": "group",
        "height": 1210,
        "hovermode": "closest",
        "legend": {
         "traceorder": "reversed"
        },
        "template": {
         "data": {
          "scatter": [
           {
            "type": "scatter"
           }
          ]
         }
        },
        "title": {
         "font": {
          "color": "rgb(50, 50, 50)",
          "family": "Arial",
          "size": 24
         },
         "pad": {
          "b": 50
         },
         "text": "Comparing local explanations in a neighborhood - Id: <b>5</b><span style='font-size: 16px;'><br />How similar are explanations for closeby neighbours?</span>",
         "x": 0.5,
         "xanchor": "center",
         "yanchor": "bottom"
        },
        "xaxis": {
         "automargin": true,
         "side": "bottom",
         "title": {
          "font": {
           "color": "rgb(50, 50, 50)",
           "family": "Arial Black",
           "size": 16
          },
          "text": "Normalized contribution values"
         }
        },
        "yaxis": {
         "automargin": true,
         "title": {
          "font": {
           "color": "rgb(50, 50, 50)",
           "family": "Arial Black",
           "size": 16
          },
          "text": ""
         }
        }
       }
      }
     },
     "metadata": {},
     "output_type": "display_data"
    }
   ],
   "source": [
    "xpl.plot.local_neighbors_plot(index=5)"
   ]
  },
  {
   "cell_type": "code",
   "execution_count": null,
   "metadata": {},
   "outputs": [],
   "source": [
    "# import shap\n",
    "\n",
    "# treeSHAP = shap.TreeExplainer(clf).shap_values(X_train, check_additivity=False)[1]\n",
    "# samplingSHAP = shap.SamplingExplainer(clf.predict_proba, shap.kmeans(X_train, 200)).shap_values(X_train, check_additivity=False)[1]\n",
    "# kernelSHAP = shap.KernelExplainer(clf.predict_proba, shap.kmeans(X_train, 200)).shap_values(X_train, check_additivity=False)[1]\n",
    "\n",
    "# treeSHAP = pd.DataFrame(treeSHAP, columns=X_train.columns)\n",
    "# samplingSHAP = pd.DataFrame(samplingSHAP, columns=X_train.columns)\n",
    "# kernelSHAP = pd.DataFrame(kernelSHAP, columns=X_train.columns)"
   ]
  },
  {
   "cell_type": "code",
   "execution_count": null,
   "metadata": {},
   "outputs": [],
   "source": [
    "xpl.generate_report(\n",
    "    output_file='report.html',\n",
    "    project_info_file='shapash_project_info.yml',\n",
    "    x_train=X_train,\n",
    "    y_train=y_train_orig,\n",
    "    y_test=y_test_orig,\n",
    "    title_story=\"User Network Activities Classification\",\n",
    "    title_description=\"This document is a data science report of the user network activities classification.\",\n",
    "    metrics=[\n",
    "        {\n",
    "            'path': 'sklearn.metrics.mean_squared_error',\n",
    "            'name': 'Mean squared error',  # Optional : name that will be displayed next to the metric\n",
    "        },\n",
    "    ]\n",
    ")"
   ]
  },
  {
   "cell_type": "code",
   "execution_count": null,
   "metadata": {},
   "outputs": [],
   "source": []
  }
 ],
 "metadata": {
  "kernelspec": {
   "display_name": "mi_xai",
   "language": "python",
   "name": "python3"
  },
  "language_info": {
   "codemirror_mode": {
    "name": "ipython",
    "version": 3
   },
   "file_extension": ".py",
   "mimetype": "text/x-python",
   "name": "python",
   "nbconvert_exporter": "python",
   "pygments_lexer": "ipython3",
   "version": "3.9.15"
  },
  "orig_nbformat": 4
 },
 "nbformat": 4,
 "nbformat_minor": 2
}
